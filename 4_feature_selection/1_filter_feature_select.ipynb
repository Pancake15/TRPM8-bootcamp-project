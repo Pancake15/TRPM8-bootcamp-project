{
 "cells": [
  {
   "cell_type": "markdown",
   "id": "068c9fd8-b5bb-4ba6-9d26-dd8ea5421464",
   "metadata": {},
   "source": [
    "# Filtering the Features"
   ]
  },
  {
   "cell_type": "markdown",
   "id": "8f540019-f583-4fb6-aef9-13c1b10ad3f5",
   "metadata": {},
   "source": [
    "Features with a variance less than 0.2 and with correlation larger than 0.95 were removed"
   ]
  },
  {
   "cell_type": "code",
   "execution_count": 7,
   "id": "46c95491-3c55-40aa-9b78-80a13362328d",
   "metadata": {},
   "outputs": [],
   "source": [
    "from sklearn import datasets\n",
    "from sklearn.feature_selection import VarianceThreshold\n",
    "import pandas as pd\n",
    "import numpy as np\n",
    "import glob\n",
    "import os"
   ]
  },
  {
   "cell_type": "code",
   "execution_count": 2,
   "id": "218cf9b3-1e37-457c-a0a4-df0817b66a6a",
   "metadata": {},
   "outputs": [
    {
     "name": "stdout",
     "output_type": "stream",
     "text": [
      "The original data size is  (654, 1009)\n"
     ]
    }
   ],
   "source": [
    "# Read entire dataset with all descriptors\n",
    "dataset = pd.read_csv('../3_train_test_split/descriptors_all.csv').set_index('Molecule ChEMBL ID').drop(columns=['Potency','-logIC50'])\n",
    "print(\"The original data size is \", dataset.shape)"
   ]
  },
  {
   "cell_type": "markdown",
   "id": "d500c1bf-200e-4ace-8d55-6fa6c86be580",
   "metadata": {},
   "source": [
    "## Remove Descriptors with Variance < 0.2"
   ]
  },
  {
   "cell_type": "code",
   "execution_count": 3,
   "id": "398829e2-d4a7-49e8-b72d-83cac7c5836a",
   "metadata": {},
   "outputs": [
    {
     "name": "stdout",
     "output_type": "stream",
     "text": [
      "after filtering with variance > 0.2, the data size is (654, 1007)\n"
     ]
    }
   ],
   "source": [
    "sel = VarianceThreshold(threshold=0.2) \n",
    "seldataset=sel.fit_transform(dataset)\n",
    "seldataset=dataset[dataset.columns[sel.get_support(indices=True)]]\n",
    "\n",
    "print(\"after filtering with variance > 0.2, the data size is\", seldataset.shape)"
   ]
  },
  {
   "cell_type": "markdown",
   "id": "d9c119a7-f43a-4a0c-9e02-1a11a43ea1ec",
   "metadata": {},
   "source": [
    "## Drop Features with Correlation > 0.95"
   ]
  },
  {
   "cell_type": "code",
   "execution_count": 6,
   "id": "c6918277-381b-4fdf-9717-da25d9f4e231",
   "metadata": {},
   "outputs": [
    {
     "name": "stdout",
     "output_type": "stream",
     "text": [
      "after filtering correlations > 0.95, the data size is (654, 565)\n"
     ]
    }
   ],
   "source": [
    "def drop_highcorr(df, threshold=0.95):\n",
    "    \"\"\"\n",
    "    Removes features that have a correlation higher than the specified threshold.\n",
    "\n",
    "    Parameters:\n",
    "        df (pd.DataFrame): The input DataFrame with features.\n",
    "        threshold (float): The correlation threshold above which features will be removed.\n",
    "        \n",
    "    Returns:\n",
    "        pd.DataFrame: A DataFrame with highly correlated features removed.\n",
    "    \"\"\"\n",
    "    # Calculate the correlation matrix\n",
    "    corr_matrix = df.corr().abs()\n",
    "    \n",
    "    # Create a boolean mask for the upper triangle of the correlation matrix\n",
    "    upper_tri = corr_matrix.where(\n",
    "        np.triu(np.ones(corr_matrix.shape), k=1).astype(bool)\n",
    "    )\n",
    "    \n",
    "    # Find columns with correlation greater than the threshold\n",
    "    to_drop = [column for column in upper_tri.columns if any(upper_tri[column] > threshold)]\n",
    "    \n",
    "    # Drop the identified columns\n",
    "    return df.drop(columns=to_drop)\n",
    "\n",
    "\n",
    "# Apply filtration to each molecule\n",
    "filtered_df = drop_highcorr(seldataset, threshold=0.95)\n",
    "\n",
    "print(\"after filtering correlations > 0.95, the data size is\", filtered_df.shape)"
   ]
  },
  {
   "cell_type": "markdown",
   "id": "ad4ee96e-ef8a-4a3d-bdb0-88f51db1e5b1",
   "metadata": {},
   "source": [
    "## Save Train and Test Sets with Reduced Features"
   ]
  },
  {
   "cell_type": "code",
   "execution_count": 16,
   "id": "80b3d4d9-42e3-4d9f-817a-ef99c5482346",
   "metadata": {},
   "outputs": [
    {
     "name": "stdout",
     "output_type": "stream",
     "text": [
      "Filtered file saved to 1_filter/train_class_5.csv\n",
      "Filtered file saved to 1_filter/train_class_4.csv\n",
      "Filtered file saved to 1_filter/train_reg.csv\n",
      "Filtered file saved to 1_filter/train_class_3.csv\n",
      "Filtered file saved to 1_filter/train_class_2.csv\n",
      "Filtered file saved to 1_filter/train_class_1.csv\n",
      "Filtered file saved to 1_filter/train_reg_5.csv\n",
      "Filtered file saved to 1_filter/train_reg_4.csv\n",
      "Filtered file saved to 1_filter/train_reg_1.csv\n",
      "Filtered file saved to 1_filter/train_reg_3.csv\n",
      "Filtered file saved to 1_filter/train_reg_2.csv\n",
      "Filtered file saved to 1_filter/train_class.csv\n",
      "Filtered file saved to 1_filter/test_reg.csv\n",
      "Filtered file saved to 1_filter/test_class.csv\n",
      "Filtered file saved to 1_filter/val_class_5.csv\n",
      "Filtered file saved to 1_filter/val_class_4.csv\n",
      "Filtered file saved to 1_filter/val_class_1.csv\n",
      "Filtered file saved to 1_filter/val_class_3.csv\n",
      "Filtered file saved to 1_filter/val_class_2.csv\n",
      "Filtered file saved to 1_filter/val_reg_4.csv\n",
      "Filtered file saved to 1_filter/val_reg_5.csv\n",
      "Filtered file saved to 1_filter/val_reg_1.csv\n",
      "Filtered file saved to 1_filter/val_reg_2.csv\n",
      "Filtered file saved to 1_filter/val_reg_3.csv\n"
     ]
    }
   ],
   "source": [
    "input_dir = \"../3_train_test_split/\"\n",
    "output_dir = \"1_filter/\"\n",
    "os.makedirs(output_dir, exist_ok=True)  # Ensure the output directory exists\n",
    "\n",
    "# Columns to keep (from filtered_df)\n",
    "selected_columns = filtered_df.columns\n",
    "\n",
    "# Loop over train, test, and val CSV files\n",
    "for file_type in [\"train\", \"test\", \"val\"]:\n",
    "    # Find all matching CSV files for this type\n",
    "    files = glob.glob(f\"{input_dir}{file_type}*.csv\")\n",
    "    \n",
    "    for file_path in files:\n",
    "        df = pd.read_csv(file_path).set_index('Molecule ChEMBL ID') # Read the CSV file\n",
    "        filtered_df = df[selected_columns] # Keep only selected columns\n",
    "        \n",
    "        # Construct the output file path\n",
    "        file_name = os.path.basename(file_path)  # Extract file name\n",
    "        output_path = os.path.join(output_dir, file_name)\n",
    "        \n",
    "        # Save the filtered DataFrame\n",
    "        filtered_df.to_csv(output_path)\n",
    "        print(f\"Filtered file saved to {output_path}\")"
   ]
  }
 ],
 "metadata": {
  "kernelspec": {
   "display_name": "Python 3 (ipykernel)",
   "language": "python",
   "name": "python3"
  },
  "language_info": {
   "codemirror_mode": {
    "name": "ipython",
    "version": 3
   },
   "file_extension": ".py",
   "mimetype": "text/x-python",
   "name": "python",
   "nbconvert_exporter": "python",
   "pygments_lexer": "ipython3",
   "version": "3.10.8"
  }
 },
 "nbformat": 4,
 "nbformat_minor": 5
}
