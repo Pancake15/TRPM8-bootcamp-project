{
 "cells": [
  {
   "cell_type": "code",
   "execution_count": 19,
   "id": "56b4fc2a",
   "metadata": {},
   "outputs": [],
   "source": [
    "import sys\n",
    "import numpy as np\n",
    "import pandas as pd\n",
    "import matplotlib.pyplot as plt\n",
    "import seaborn as sns\n",
    "import joblib\n",
    "import math\n",
    "import hashlib\n",
    "from sklearn.ensemble import RandomForestClassifier\n",
    "from sklearn import linear_model\n",
    "from sklearn.tree import DecisionTreeRegressor\n",
    "from sklearn.linear_model import LogisticRegression\n",
    "from sklearn import svm,linear_model\n",
    "from sklearn.model_selection import train_test_split\n",
    "from sklearn.feature_selection import SelectFromModel,RFE,RFECV\n",
    "from sklearn.ensemble import RandomForestRegressor\n",
    "from sklearn.preprocessing import StandardScaler,MinMaxScaler,KBinsDiscretizer\n",
    "from sklearn.model_selection import GridSearchCV\n",
    "from sklearn.svm import SVR,LinearSVR\n",
    "from sklearn import model_selection\n",
    "from sklearn.impute import SimpleImputer\n",
    "from sklearn.model_selection import StratifiedKFold\n",
    "from sklearn import metrics\n",
    "from numpy import transpose\n",
    "from collections.abc import Iterable\n",
    "from sklearn.metrics import confusion_matrix\n",
    "from sklearn.model_selection import KFold\n",
    "import os\n"
   ]
  },
  {
   "cell_type": "code",
   "execution_count": 7,
   "id": "48f25cd2",
   "metadata": {},
   "outputs": [
    {
     "data": {
      "text/plain": [
       "'/Users/jessicapan/Documents/GitHub/TRPM8-bootcamp-project/4_feature_selection/Forest_feature_selection'"
      ]
     },
     "execution_count": 7,
     "metadata": {},
     "output_type": "execute_result"
    }
   ],
   "source": [
    "os.getcwd()"
   ]
  },
  {
   "cell_type": "code",
   "execution_count": 12,
   "id": "bfb104b5",
   "metadata": {},
   "outputs": [
    {
     "data": {
      "text/plain": [
       "Index(['Molecule ChEMBL ID', 'PMI1', 'PMI2', 'Asphericity', 'Eccentricity',\n",
       "       'InertialShapeFactor', 'NPR2', 'PBF', 'SpherocityIndex', 'LabuteASA',\n",
       "       ...\n",
       "       'aromaticRings', 'HAcceptors', 'HDonors', 'heteroatoms',\n",
       "       'rotatableBonds', 'saturatedCarbocycles', 'saturatedHeterocycles',\n",
       "       'satureatedRings', 'ringCount', 'molLogP'],\n",
       "      dtype='object', length=566)"
      ]
     },
     "execution_count": 12,
     "metadata": {},
     "output_type": "execute_result"
    }
   ],
   "source": [
    "#Put in fname the csv file of the molecular descriptors calculated for each molecule\n",
    "\n",
    "fname = \"../4_feature_selection/1_filter/train_reg.csv\"\n",
    "df = pd.read_csv(\"../1_filter/train_reg.csv\")\n",
    "df_with_IC50 = pd.read_csv(\"../../3_train_test_split/IC50_train_reg.csv\")\n",
    "\n",
    "column_names = df.columns\n",
    "column_names"
   ]
  },
  {
   "cell_type": "code",
   "execution_count": 13,
   "id": "43eaf51e",
   "metadata": {},
   "outputs": [],
   "source": [
    "X = df.drop(\"Molecule ChEMBL ID\", axis=1)                                      # Features\n",
    "y = df_with_IC50['-logIC50']                 # Target variable"
   ]
  },
  {
   "cell_type": "code",
   "execution_count": 46,
   "id": "9f325de7",
   "metadata": {},
   "outputs": [
    {
     "name": "stdout",
     "output_type": "stream",
     "text": [
      "Optimal number of features: 45\n"
     ]
    }
   ],
   "source": [
    "#Use RFECV from sklearn to model\n",
    "\n",
    "model = RandomForestRegressor(n_estimators=50, random_state=42)\n",
    "rfecv = RFECV(\n",
    "    estimator=model, \n",
    "    step=20, \n",
    "    cv=KFold(5),  # 5-fold cross-validation\n",
    "    scoring='neg_mean_squared_error'  # Use neg_mean_squared_error for regression\n",
    ")\n",
    "\n",
    "# Step 3: Fit the RFECV to the training data\n",
    "rfecv.fit(X, y)\n",
    "\n",
    "# Display the optimal number of features\n",
    "print(\"Optimal number of features:\", rfecv.n_features_)\n"
   ]
  },
  {
   "cell_type": "code",
   "execution_count": 47,
   "id": "c25cf167",
   "metadata": {},
   "outputs": [
    {
     "data": {
      "image/png": "[encoded data removed]",
      "text/plain": [
       "<Figure size 640x480 with 1 Axes>"
      ]
     },
     "metadata": {},
     "output_type": "display_data"
    },
    {
     "name": "stdout",
     "output_type": "stream",
     "text": [
      "The peak cross-validation score is: -3.81860161846184\n"
     ]
    }
   ],
   "source": [
    "# Plot number of features VS. cross-validation scores\n",
    "\n",
    "plt.figure()\n",
    "plt.xlabel(\"Number of features selected\")\n",
    "plt.ylabel(\"Cross-validation score (neg MSE)\")\n",
    "plt.plot(range(1, len(rfecv.cv_results_['mean_test_score']) + 1), rfecv.cv_results_['mean_test_score'])\n",
    "plt.show()\n",
    "\n",
    "# Get the peak score\n",
    "peak_score = max(rfecv.cv_results_['mean_test_score'])\n",
    "\n",
    "# Print the peak score\n",
    "print(f\"The peak cross-validation score is: {peak_score}\")"
   ]
  },
  {
   "cell_type": "code",
   "execution_count": null,
   "id": "d3eac893",
   "metadata": {},
   "outputs": [],
   "source": [
    "#Filtered dataset results:\n",
    "\n",
    "#n_estimator = 50, step = 10, -3.895138465911475\n",
    "#n_estimator = 100, step = 10, -3.857309437070286\n",
    "    #Selected features: ['PMI2', 'InertialShapeFactor', 'NPR2', 'DoubleCubicLatticePackingDensity', 'GETAWAY_1', 'GETAWAY_7', 'GETAWAY_11', 'GETAWAY_12', 'GETAWAY_14', 'GETAWAY_17', 'GETAWAY_20', 'GETAWAY_22', 'GETAWAY_30', 'GETAWAY_39', 'GETAWAY_48', 'GETAWAY_57', 'GETAWAY_59', 'GETAWAY_60', 'GETAWAY_94', 'GETAWAY_131', 'GETAWAY_133', 'GETAWAY_137', 'GETAWAY_141', 'GETAWAY_142', 'GETAWAY_147', 'GETAWAY_148', 'GETAWAY_149', 'GETAWAY_151', 'GETAWAY_154', 'GETAWAY_156', 'GETAWAY_157', 'GETAWAY_159', 'GETAWAY_167', 'GETAWAY_174', 'GETAWAY_176', 'GETAWAY_177', 'GETAWAY_178', 'GETAWAY_203', 'GETAWAY_220', 'GETAWAY_231', 'GETAWAY_233', 'GETAWAY_237', 'GETAWAY_238', 'GETAWAY_250', 'GETAWAY_251', 'GETAWAY_254', 'GETAWAY_257', 'GETAWAY_261', 'GETAWAY_264', 'GETAWAY_266', 'GETAWAY_267', 'GETAWAY_269', 'GETAWAY_270', 'GETAWAY_271', 'WHIM_3', 'WHIM_8', 'WHIM_13', 'WHIM_19', 'WHIM_21', 'WHIM_41', 'WHIM_42', 'WHIM_53', 'WHIM_74', 'WHIM_103', 'MORSE_1', 'MORSE_2', 'MORSE_9', 'MORSE_10', 'MORSE_11', 'MORSE_15', 'MORSE_19', 'MORSE_21', 'MORSE_22', 'MORSE_24', 'MORSE_25', 'MORSE_30', 'MORSE_31', 'MORSE_33', 'MORSE_41', 'MORSE_44', 'MORSE_47', 'MORSE_56', 'MORSE_57', 'MORSE_59', 'MORSE_61', 'MORSE_62', 'MORSE_65', 'MORSE_68', 'MORSE_70', 'MORSE_72', 'MORSE_73', 'MORSE_75', 'MORSE_76', 'MORSE_79', 'MORSE_81', 'MORSE_82', 'MORSE_83', 'MORSE_84', 'MORSE_85', 'MORSE_87', 'MORSE_89', 'MORSE_92', 'MORSE_94', 'MORSE_133', 'MORSE_157', 'MORSE_193', 'MORSE_194', 'MORSE_195', 'MORSE_197', 'MORSE_200', 'MORSE_203', 'MORSE_204', 'MORSE_205', 'MORSE_206', 'MORSE_210', 'MORSE_211', 'MORSE_212', 'MORSE_214', 'MORSE_215', 'MORSE_218', 'MORSE_220', 'MORSE_222', 'RDF_0', 'RDF_1', 'RDF_2', 'RDF_14', 'RDF_16', 'RDF_31', 'RDF_33', 'RDF_34', 'RDF_36', 'RDF_41', 'RDF_42', 'RDF_44', 'RDF_70', 'RDF_78', 'RDF_180', 'RDF_182', 'RDF_183', 'RDF_185', 'RDF_189', 'RDF_193', 'RDF_195', 'RDF_197', 'RDF_200', 'AUTOCORR3D_3', 'AUTOCORR3D_4', 'AUTOCORR3D_5', 'AUTOCORR3D_6', 'AUTOCORR3D_7', 'AUTOCORR3D_8', 'AUTOCORR3D_9', 'AUTOCORR3D_18', 'AUTOCORR3D_26', 'AUTOCORR3D_28', 'AUTOCORR3D_66', 'AUTOCORR3D_68', 'LUMO', 'Electronegativity', 'TPSA', 'Kappa3', 'PEOE_VSA1', 'PEOE_VSA2', 'PEOE_VSA3', 'PEOE_VSA7', 'PEOE_VSA8', 'PEOE_VSA10', 'PEOE_VSA12', 'PEOE_VSA14', 'GGI1', 'GGI3', 'GGI4', 'GGI5', 'GGI6', 'GGI7', 'GGI8', 'GGI9', 'JGI2', 'JGI3', 'JGI4', 'JGI6', 'JGI7', 'JGI8', 'JGI9', 'JGI10', 'Unnamed: 0', 'qed', 'min_charge', 'max_abs_charge', 'molLogP']\n",
    "#n_estimator = 100, step = 5, -3.86487839229536\n",
    "#n_estimator = 200, step = 10, -3.86487839229536, -3.8765755150319414\n",
    "#n_estimator = 100, step = 20, -3.843482252002609\n",
    "    #Selected features: ['PMI2', 'GETAWAY_7', 'GETAWAY_12', 'GETAWAY_17', 'GETAWAY_22', 'GETAWAY_94', 'GETAWAY_133', 'GETAWAY_149', 'GETAWAY_174', 'GETAWAY_203', 'GETAWAY_238', 'GETAWAY_250', 'GETAWAY_257', 'GETAWAY_261', 'GETAWAY_269', 'GETAWAY_270', 'GETAWAY_271', 'WHIM_8', 'MORSE_9', 'MORSE_15', 'MORSE_24', 'MORSE_25', 'MORSE_30', 'MORSE_31', 'MORSE_47', 'MORSE_57', 'MORSE_65', 'MORSE_66', 'MORSE_81', 'MORSE_83', 'MORSE_89', 'MORSE_94', 'MORSE_193', 'MORSE_205', 'MORSE_210', 'MORSE_211', 'RDF_16', 'RDF_31', 'RDF_33', 'RDF_36', 'RDF_41', 'RDF_42', 'RDF_193', 'AUTOCORR3D_5', 'AUTOCORR3D_7', 'AUTOCORR3D_66', 'AUTOCORR3D_68', 'LUMO', 'TPSA', 'PEOE_VSA1', 'PEOE_VSA2', 'PEOE_VSA7', 'PEOE_VSA12', 'GGI6', 'GGI7', 'GGI8', 'GGI9', 'JGI6', 'JGI7', 'JGI8', 'JGI9', 'JGI10', 'qed', 'max_abs_charge', 'molLogP']\n",
    "#n_estimator = 50, step = 20, -3.81860161846184\n",
    "    #Selected features: ['GETAWAY_12', 'GETAWAY_14', 'GETAWAY_17', 'GETAWAY_22', 'GETAWAY_94', 'GETAWAY_141', 'GETAWAY_202', 'GETAWAY_203', 'GETAWAY_269', 'GETAWAY_270', 'GETAWAY_271', 'MORSE_24', 'MORSE_25', 'MORSE_31', 'MORSE_33', 'MORSE_85', 'MORSE_94', 'MORSE_133', 'MORSE_205', 'MORSE_210', 'MORSE_211', 'RDF_2', 'RDF_31', 'RDF_33', 'RDF_41', 'RDF_183', 'RDF_193', 'AUTOCORR3D_5', 'AUTOCORR3D_7', 'AUTOCORR3D_28', 'AUTOCORR3D_66', 'LUMO', 'TPSA', 'PEOE_VSA1', 'PEOE_VSA2', 'PEOE_VSA12', 'GGI6', 'GGI7', 'GGI8', 'JGI6', 'JGI7', 'JGI8', 'JGI9', 'qed', 'molLogP']\n",
    "\n",
    "#n_estimator = 40, step = 20, -3.874838974602619, -3.8723622719112107\n",
    "#n_estimator = 30, step = 10, -3.845214142026767\n",
    "#n_estimator = 30, step = 5, -3.870380816032637\n",
    "#n_estimator = 30, step = 20, -3.822483677061328\n",
    "\n",
    "\n"
   ]
  },
  {
   "cell_type": "code",
   "execution_count": 48,
   "id": "5a3f3152",
   "metadata": {},
   "outputs": [
    {
     "name": "stdout",
     "output_type": "stream",
     "text": [
      "Selected features: ['GETAWAY_12', 'GETAWAY_14', 'GETAWAY_17', 'GETAWAY_22', 'GETAWAY_94', 'GETAWAY_141', 'GETAWAY_202', 'GETAWAY_203', 'GETAWAY_269', 'GETAWAY_270', 'GETAWAY_271', 'MORSE_24', 'MORSE_25', 'MORSE_31', 'MORSE_33', 'MORSE_85', 'MORSE_94', 'MORSE_133', 'MORSE_205', 'MORSE_210', 'MORSE_211', 'RDF_2', 'RDF_31', 'RDF_33', 'RDF_41', 'RDF_183', 'RDF_193', 'AUTOCORR3D_5', 'AUTOCORR3D_7', 'AUTOCORR3D_28', 'AUTOCORR3D_66', 'LUMO', 'TPSA', 'PEOE_VSA1', 'PEOE_VSA2', 'PEOE_VSA12', 'GGI6', 'GGI7', 'GGI8', 'JGI6', 'JGI7', 'JGI8', 'JGI9', 'qed', 'molLogP']\n"
     ]
    }
   ],
   "source": [
    "feature_names = X.columns\n",
    "\n",
    "# Get the mask of selected features\n",
    "selected_mask = rfecv.support_\n",
    "\n",
    "# Retrieve the names of selected features\n",
    "selected_features = feature_names[selected_mask]\n",
    "print(f\"Selected features: {list(selected_features)}\")\n",
    "\n",
    "#Non-filtered best parameters: n_estimator = 50, step = 20, -3.564713391615207\n",
    "    #'GETAWAY_246', 'MORSE_205', 'RDF_31', 'AUTOCORR3D_7', 'AUTOCORR3D_57', 'GGI6', 'GGI7', 'qed', 'molLogP'\n",
    "\n",
    "#Filtered best parameters: #n_estimator = 50, step = 20, -3.81860161846184\n",
    "    #Selected features: ['GETAWAY_12', 'GETAWAY_14', 'GETAWAY_17', 'GETAWAY_22', 'GETAWAY_94', 'GETAWAY_141', 'GETAWAY_202', 'GETAWAY_203', 'GETAWAY_269', 'GETAWAY_270', 'GETAWAY_271', 'MORSE_24', 'MORSE_25', 'MORSE_31', 'MORSE_33', 'MORSE_85', 'MORSE_94', 'MORSE_133', 'MORSE_205', 'MORSE_210', 'MORSE_211', 'RDF_2', 'RDF_31', 'RDF_33', 'RDF_41', 'RDF_183', 'RDF_193', 'AUTOCORR3D_5', 'AUTOCORR3D_7', 'AUTOCORR3D_28', 'AUTOCORR3D_66', 'LUMO', 'TPSA', 'PEOE_VSA1', 'PEOE_VSA2', 'PEOE_VSA12', 'GGI6', 'GGI7', 'GGI8', 'JGI6', 'JGI7', 'JGI8', 'JGI9', 'qed', 'molLogP']\n"
   ]
  },
  {
   "cell_type": "code",
   "execution_count": 49,
   "id": "be2e7734",
   "metadata": {},
   "outputs": [
    {
     "ename": "KeyError",
     "evalue": "'-logIC50'",
     "output_type": "error",
     "traceback": [
      "\u001b[0;31m---------------------------------------------------------------------------\u001b[0m",
      "\u001b[0;31mKeyError\u001b[0m                                  Traceback (most recent call last)",
      "File \u001b[0;32m/opt/anaconda3/lib/python3.12/site-packages/pandas/core/indexes/base.py:3805\u001b[0m, in \u001b[0;36mIndex.get_loc\u001b[0;34m(self, key)\u001b[0m\n\u001b[1;32m   3804\u001b[0m \u001b[38;5;28;01mtry\u001b[39;00m:\n\u001b[0;32m-> 3805\u001b[0m     \u001b[38;5;28;01mreturn\u001b[39;00m \u001b[38;5;28mself\u001b[39m\u001b[38;5;241m.\u001b[39m_engine\u001b[38;5;241m.\u001b[39mget_loc(casted_key)\n\u001b[1;32m   3806\u001b[0m \u001b[38;5;28;01mexcept\u001b[39;00m \u001b[38;5;167;01mKeyError\u001b[39;00m \u001b[38;5;28;01mas\u001b[39;00m err:\n",
      "File \u001b[0;32mindex.pyx:167\u001b[0m, in \u001b[0;36mpandas._libs.index.IndexEngine.get_loc\u001b[0;34m()\u001b[0m\n",
      "File \u001b[0;32mindex.pyx:196\u001b[0m, in \u001b[0;36mpandas._libs.index.IndexEngine.get_loc\u001b[0;34m()\u001b[0m\n",
      "File \u001b[0;32mpandas/_libs/hashtable_class_helper.pxi:7081\u001b[0m, in \u001b[0;36mpandas._libs.hashtable.PyObjectHashTable.get_item\u001b[0;34m()\u001b[0m\n",
      "File \u001b[0;32mpandas/_libs/hashtable_class_helper.pxi:7089\u001b[0m, in \u001b[0;36mpandas._libs.hashtable.PyObjectHashTable.get_item\u001b[0;34m()\u001b[0m\n",
      "\u001b[0;31mKeyError\u001b[0m: '-logIC50'",
      "\nThe above exception was the direct cause of the following exception:\n",
      "\u001b[0;31mKeyError\u001b[0m                                  Traceback (most recent call last)",
      "Cell \u001b[0;32mIn[49], line 6\u001b[0m\n\u001b[1;32m      3\u001b[0m \u001b[38;5;66;03m# Non-binders have the value of 10000 imputed, which corresponds to about -11.5 when taking -log(IC50).\u001b[39;00m\n\u001b[1;32m      4\u001b[0m \u001b[38;5;66;03m# Create an is_imputed column that has 0 when the data is not imputed and 1 when it is. \u001b[39;00m\n\u001b[1;32m      5\u001b[0m threshold \u001b[38;5;241m=\u001b[39m \u001b[38;5;241m1e-6\u001b[39m  \u001b[38;5;66;03m# Tolerance for floating-point comparison\u001b[39;00m\n\u001b[0;32m----> 6\u001b[0m df[\u001b[38;5;124m'\u001b[39m\u001b[38;5;124mis_imputed\u001b[39m\u001b[38;5;124m'\u001b[39m] \u001b[38;5;241m=\u001b[39m (np\u001b[38;5;241m.\u001b[39mabs(df[\u001b[38;5;124m'\u001b[39m\u001b[38;5;124m-logIC50\u001b[39m\u001b[38;5;124m'\u001b[39m] \u001b[38;5;241m-\u001b[39m (\u001b[38;5;241m-\u001b[39mnp\u001b[38;5;241m.\u001b[39mlog(\u001b[38;5;241m10000\u001b[39m \u001b[38;5;241m*\u001b[39m \u001b[38;5;241m1e-9\u001b[39m)) ) \u001b[38;5;241m<\u001b[39m threshold)\u001b[38;5;241m.\u001b[39mastype(\u001b[38;5;28mint\u001b[39m)\n\u001b[1;32m      7\u001b[0m \u001b[38;5;66;03m# Create interaction terms with the is_imputed column (multiply the descriptor columns with the is_imputed column)\u001b[39;00m\n\u001b[1;32m      8\u001b[0m X_interactions \u001b[38;5;241m=\u001b[39m df\u001b[38;5;241m.\u001b[39mmultiply(df[\u001b[38;5;124m'\u001b[39m\u001b[38;5;124mis_imputed\u001b[39m\u001b[38;5;124m'\u001b[39m], axis\u001b[38;5;241m=\u001b[39m\u001b[38;5;241m0\u001b[39m)\n",
      "File \u001b[0;32m/opt/anaconda3/lib/python3.12/site-packages/pandas/core/frame.py:4102\u001b[0m, in \u001b[0;36mDataFrame.__getitem__\u001b[0;34m(self, key)\u001b[0m\n\u001b[1;32m   4100\u001b[0m \u001b[38;5;28;01mif\u001b[39;00m \u001b[38;5;28mself\u001b[39m\u001b[38;5;241m.\u001b[39mcolumns\u001b[38;5;241m.\u001b[39mnlevels \u001b[38;5;241m>\u001b[39m \u001b[38;5;241m1\u001b[39m:\n\u001b[1;32m   4101\u001b[0m     \u001b[38;5;28;01mreturn\u001b[39;00m \u001b[38;5;28mself\u001b[39m\u001b[38;5;241m.\u001b[39m_getitem_multilevel(key)\n\u001b[0;32m-> 4102\u001b[0m indexer \u001b[38;5;241m=\u001b[39m \u001b[38;5;28mself\u001b[39m\u001b[38;5;241m.\u001b[39mcolumns\u001b[38;5;241m.\u001b[39mget_loc(key)\n\u001b[1;32m   4103\u001b[0m \u001b[38;5;28;01mif\u001b[39;00m is_integer(indexer):\n\u001b[1;32m   4104\u001b[0m     indexer \u001b[38;5;241m=\u001b[39m [indexer]\n",
      "File \u001b[0;32m/opt/anaconda3/lib/python3.12/site-packages/pandas/core/indexes/base.py:3812\u001b[0m, in \u001b[0;36mIndex.get_loc\u001b[0;34m(self, key)\u001b[0m\n\u001b[1;32m   3807\u001b[0m     \u001b[38;5;28;01mif\u001b[39;00m \u001b[38;5;28misinstance\u001b[39m(casted_key, \u001b[38;5;28mslice\u001b[39m) \u001b[38;5;129;01mor\u001b[39;00m (\n\u001b[1;32m   3808\u001b[0m         \u001b[38;5;28misinstance\u001b[39m(casted_key, abc\u001b[38;5;241m.\u001b[39mIterable)\n\u001b[1;32m   3809\u001b[0m         \u001b[38;5;129;01mand\u001b[39;00m \u001b[38;5;28many\u001b[39m(\u001b[38;5;28misinstance\u001b[39m(x, \u001b[38;5;28mslice\u001b[39m) \u001b[38;5;28;01mfor\u001b[39;00m x \u001b[38;5;129;01min\u001b[39;00m casted_key)\n\u001b[1;32m   3810\u001b[0m     ):\n\u001b[1;32m   3811\u001b[0m         \u001b[38;5;28;01mraise\u001b[39;00m InvalidIndexError(key)\n\u001b[0;32m-> 3812\u001b[0m     \u001b[38;5;28;01mraise\u001b[39;00m \u001b[38;5;167;01mKeyError\u001b[39;00m(key) \u001b[38;5;28;01mfrom\u001b[39;00m \u001b[38;5;21;01merr\u001b[39;00m\n\u001b[1;32m   3813\u001b[0m \u001b[38;5;28;01mexcept\u001b[39;00m \u001b[38;5;167;01mTypeError\u001b[39;00m:\n\u001b[1;32m   3814\u001b[0m     \u001b[38;5;66;03m# If we have a listlike key, _check_indexing_error will raise\u001b[39;00m\n\u001b[1;32m   3815\u001b[0m     \u001b[38;5;66;03m#  InvalidIndexError. Otherwise we fall through and re-raise\u001b[39;00m\n\u001b[1;32m   3816\u001b[0m     \u001b[38;5;66;03m#  the TypeError.\u001b[39;00m\n\u001b[1;32m   3817\u001b[0m     \u001b[38;5;28mself\u001b[39m\u001b[38;5;241m.\u001b[39m_check_indexing_error(key)\n",
      "\u001b[0;31mKeyError\u001b[0m: '-logIC50'"
     ]
    }
   ],
   "source": [
    "interaction_features = df\n",
    "\n",
    "# Non-binders have the value of 10000 imputed, which corresponds to about -11.5 when taking -log(IC50).\n",
    "# Create an is_imputed column that has 0 when the data is not imputed and 1 when it is. \n",
    "threshold = 1e-6  # Tolerance for floating-point comparison\n",
    "df['is_imputed'] = (np.abs(df['-logIC50'] - (-np.log(10000 * 1e-9)) ) < threshold).astype(int)\n",
    "# Create interaction terms with the is_imputed column (multiply the descriptor columns with the is_imputed column)\n",
    "X_interactions = df.multiply(df['is_imputed'], axis=0)\n",
    "X_interactions.columns = [f\"{col}_is_imputed\" for col in interaction_features] # Rename the columns\n",
    "# Combine original features, interaction terms, and target variable\n",
    "X_reg_full = pd.concat([df, X_interactions], axis=1)\n",
    "\n",
    "X_reg_full"
   ]
  },
  {
   "cell_type": "code",
   "execution_count": null,
   "id": "c15931ef",
   "metadata": {},
   "outputs": [],
   "source": [
    "#Unfiltered parameters:\n",
    "#n_estimator = 100, step = 5, -3.5811981127254384\n",
    "#n_estimator = 100, step = 10, -3.5811981127254384\n",
    "    #features = 'MORSE_205', 'RDF_31', 'AUTOCORR3D_7', 'AUTOCORR3D_57', 'GGI6', 'GGI7', 'GGI9', 'qed', 'molLogP'\n",
    "#n_estimator = 50, step = 10, -3.643786309125889\n",
    "#n_estimator = 100, step = 20, -3.7218224693225865\n",
    "#n_estimator = 40, step = 20, -3.677299349872603\n",
    "#n_estimator = 60, step = 20, -3.6431093541780415\n",
    "#n_estimator = 40, step = 10, -3.7141160263546285\n",
    "#n_estimator = 50, step = 5, -3.6204135430517574\n",
    "#n_estimator = 50, step = 20, -3.564713391615207\n",
    "    #'GETAWAY_246', 'MORSE_205', 'RDF_31', 'AUTOCORR3D_7', 'AUTOCORR3D_57', 'GGI6', 'GGI7', 'qed', 'molLogP'\n",
    "    #Chose this set of parameters since it has the highest cross validation score"
   ]
  }
 ],
 "metadata": {
  "kernelspec": {
   "display_name": "base",
   "language": "python",
   "name": "python3"
  },
  "language_info": {
   "codemirror_mode": {
    "name": "ipython",
    "version": 3
   },
   "file_extension": ".py",
   "mimetype": "text/x-python",
   "name": "python",
   "nbconvert_exporter": "python",
   "pygments_lexer": "ipython3",
   "version": "3.12.2"
  }
 },
 "nbformat": 4,
 "nbformat_minor": 5
}
