{
 "cells": [
  {
   "cell_type": "markdown",
   "id": "247b4037-3aa9-4c35-bfe3-63d5206e0401",
   "metadata": {},
   "source": [
    "# Genetic Algorithm for Feature Selection"
   ]
  },
  {
   "cell_type": "markdown",
   "id": "a98ba18c-73a3-4faf-8df2-fc2ad90a7c70",
   "metadata": {},
   "source": [
    "A Genetic Algorithm for feature selection is an evolutionary approach inspired by natural selection that can be very effective for selecting optimal feature subsets. It is particularly useful when the feature space is large, complex, or highly non-linear. The steps involve:\n",
    "\n",
    "1. Initialization: Generate an initial population of random feature subsets.\n",
    "2. Evaluation: Train a model using each feature subset and evaluate its performance \n",
    "3. Selection: Choose the best-performing feature subsets as parents for the next generation.\n",
    "4. Crossover: Combine pairs of parent feature subsets to create offspring by mixing their features.\n",
    "5. Mutation: Introduce small random changes to some offspring to maintain diversity and avoid local optima.\n",
    "6. Replacement: Replace the worst-performing feature subsets in the population with the new offspring.\n",
    "7. Iteration: Repeat the process until a stopping criterion is met\n",
    "\n",
    "Genetic Algorithms can capture complex, non-linear relationships between features, can be used with any type of model, and perform a comprehensive search of the feature space. The script is adapted from the tutorial found here https://medium.com/@ela.markovic/feature-selection-using-genetic-algorithm-complete-beginner-friendly-guide-198496393728 \n"
   ]
  },
  {
   "cell_type": "code",
   "execution_count": 1,
   "id": "e065933b-5130-4f91-8d7c-39d16e37c03f",
   "metadata": {},
   "outputs": [],
   "source": [
    "import pandas as pd\n",
    "import numpy as np\n",
    "from sklearn.model_selection import train_test_split\n",
    "from sklearn.ensemble import RandomForestRegressor\n",
    "from xgboost import XGBRegressor\n",
    "from sklearn.linear_model import LinearRegression\n",
    "from sklearn.svm import SVR\n",
    "from sklearn.metrics import r2_score\n",
    "from sklearn.linear_model import Ridge\n",
    "from sklearn.model_selection import cross_val_score\n",
    "import matplotlib as mpl\n",
    "import matplotlib.pyplot as plt\n",
    "from matplotlib.ticker import FuncFormatter\n",
    "import random\n",
    "from tqdm import tqdm"
   ]
  },
  {
   "cell_type": "markdown",
   "id": "62506949-9628-4a94-92b1-1447f7f38cc7",
   "metadata": {},
   "source": [
    "### Hyperparameters"
   ]
  },
  {
   "cell_type": "code",
   "execution_count": 5,
   "id": "8dd96e1e-c6d0-4a96-a3e9-ffff23ca08a3",
   "metadata": {},
   "outputs": [],
   "source": [
    "# Minimum number of features an individual (a molecule) can have\n",
    "min_features = 2 \n",
    "# Maximum number of features an individual (a molecule) can have\n",
    "max_features = 100 \n",
    "\n",
    "# The number of individuals in the population. This determines how many candidate solutions\n",
    "# (feature subsets) are considered in each generation.\n",
    "population_size = 40 \n",
    "\n",
    "max_iterations = 30 # Maximum number of generations\n",
    "\n",
    "# The percentage of the population that will be preserved as elite. Elite individuals\n",
    "# are kept without change and passed directly to the next generation.\n",
    "elite_percent = 0.3 \n",
    "\n",
    "# The probability that a mutation will occur in an individual. Mutation introduces variability\n",
    "# by flipping feature selections (0 to 1 or 1 to 0) within the individual.\n",
    "mutation_probability = 0.1 # Probability of mutation\n",
    "\n",
    "\n",
    "models = ['random_forest', 'xgboost', 'linear_regression', 'svr'] # List of model types to iterate over\n",
    "problems = ['regression', 'classification']"
   ]
  },
  {
   "cell_type": "markdown",
   "id": "c81e3024-8cde-4385-8e1e-f8550a10d4d2",
   "metadata": {},
   "source": [
    "## Functions to use"
   ]
  },
  {
   "cell_type": "markdown",
   "id": "f4ab113e-1a29-4228-bec4-9756f3483d52",
   "metadata": {},
   "source": [
    "### Create an initial population (step 1)"
   ]
  },
  {
   "cell_type": "code",
   "execution_count": 3,
   "id": "850020f4-daf6-428e-a69d-a17e3a3be3f3",
   "metadata": {},
   "outputs": [],
   "source": [
    "# Function to generate random individuals (feature subsets)\n",
    "def generate_random_individuals(population_size, num_features, min_features, max_features):\n",
    "    \"\"\"\n",
    "    Generate a population of random individuals represented as binary vectors.\n",
    "\n",
    "    Parameters:\n",
    "    population_size (int): Number of individuals in the population.\n",
    "    num_features (int): Total number of features available.\n",
    "    min_features (int): Minimum number of features to include in an individual.\n",
    "    max_features (int): Maximum number of features to include in an individual.\n",
    "\n",
    "    Returns:\n",
    "    np.ndarray: A 2D array where each row is a binary vector representing an individual.\n",
    "    \"\"\"\n",
    "    # Initialize the matrix with zeros. if a feature (column) in a population (row) is selected, it will be changed to 1\n",
    "    individuals = np.zeros((population_size, num_features)) \n",
    "    # Loop over the population (in this case, the compounds) and randomly select a set of features to keep \n",
    "    for i in range(population_size):\n",
    "        # Generate a random number of ones (random number of features to keep), which is between min_features and max_features\n",
    "        num_ones = np.random.randint(min_features, max_features + 1)\n",
    "        # Randomly assign the ones to features describing the compounds\n",
    "        ones_indices = np.random.choice(num_features, num_ones, replace=False) #indices that the ones will be assigned to\n",
    "        individuals[i, ones_indices] = 1 #assign the ones at the indices\n",
    "    return individuals"
   ]
  },
  {
   "cell_type": "markdown",
   "id": "76e2af7a-aa05-4518-a59c-2a92b64f09f9",
   "metadata": {},
   "source": [
    "### Train a model on every chromosome from the population and calculate accuracy (steps 2 & 3)"
   ]
  },
  {
   "cell_type": "markdown",
   "id": "2c3a51c1-8424-4184-8f56-c869a2d2e95d",
   "metadata": {},
   "source": [
    "This `train_model` function is designed to train a specified regression model with appropriate regularization, evaluate its performance using cross-validation, and calculate an average R² score to assess model reliability. It starts by selecting only the predictor features specified by predictor_names from the training and test datasets. Based on the model type provided (`random_forest`, `xgboost`, `linear_regression`, or `svr`), the function initializes a model with built-in regularization to prevent overfitting: it limits tree depth in `RandomForestRegressor`, applies both L1 and L2 regularization terms in `XGBRegressor`, uses Ridge (L2) regularization for linear regression, and sets a regularization parameter `C` for `SVR`.\n",
    "\n",
    "The function then performs 5-fold cross-validation on the training data, obtaining an average R² score (`avg_cv_r2`) that provides a reliable performance estimate by reducing potential overfitting to any single subset of data. After cross-validation, the model is fit on the full training set and used to predict on the test set, yielding a test R² score (`test_r2`). Finally, an overall performance score (`final_score`) is calculated by averaging the cross-validation and test R² scores, giving a balanced measure of how well the model generalizes to new data."
   ]
  },
  {
   "cell_type": "code",
   "execution_count": 4,
   "id": "510a73aa-f7fc-4f9a-9945-51372942d028",
   "metadata": {},
   "outputs": [],
   "source": [
    "def train_model(x_train, x_test, y_train, y_test, predictor_names, model_type, problem_type):\n",
    "    \"\"\"\n",
    "    Train a specified model and calculate both loss and accuracy.\n",
    "\n",
    "    Parameters:\n",
    "    x_train (pd.DataFrame): Training feature set.\n",
    "    x_test (pd.DataFrame): Test feature set.\n",
    "    y_train (pd.Series): Training target values.\n",
    "    y_test (pd.Series): Test target values.\n",
    "    predictor_names (list): List of feature names to include in the model.\n",
    "    model_type (str): The type of model ('random_forest', 'xgboost', 'linear_regression', 'svr', 'svc').\n",
    "    problem_type (str): The problem type ('regression' or 'classification').\n",
    "\n",
    "    Returns:\n",
    "    tuple: Loss (float) and accuracy (float).\n",
    "    \"\"\"\n",
    "    # Split training data further into train and validation sets\n",
    "    x_train_split, x_val_split, y_train_split, y_val_split = train_test_split(\n",
    "        x_train.loc[:, predictor_names], y_train, test_size=0.2, random_state=1\n",
    "    )\n",
    "\n",
    "    # Initialize the model based on the type\n",
    "    if problem_type == 'regression':\n",
    "        if model_type == 'random_forest':\n",
    "            mdl = RandomForestRegressor(random_state=1, max_depth=10, min_samples_split=5, min_samples_leaf=2)\n",
    "        elif model_type == 'xgboost':\n",
    "            mdl = XGBRegressor(objective='reg:squarederror', random_state=1)\n",
    "        elif model_type == 'linear_regression':\n",
    "            mdl = Ridge(alpha=1.0)\n",
    "        elif model_type == 'svr':\n",
    "            mdl = SVR(C=1.0)\n",
    "        else:\n",
    "            raise ValueError(\"Unsupported regression model type.\")\n",
    "    elif problem_type == 'classification':\n",
    "        if model_type == 'random_forest':\n",
    "            mdl = RandomForestClassifier(random_state=1, max_depth=10, min_samples_split=5, min_samples_leaf=2)\n",
    "        elif model_type == 'xgboost':\n",
    "            mdl = XGBClassifier(use_label_encoder=False, eval_metric='logloss', random_state=1)\n",
    "        elif model_type == 'svc':\n",
    "            mdl = SVC(C=1.0, probability=True, random_state=1)\n",
    "        else:\n",
    "            raise ValueError(\"Unsupported classification model type.\")\n",
    "    else:\n",
    "        raise ValueError(\"Invalid problem type. Must be 'regression' or 'classification'.\")\n",
    "\n",
    "    # Fit the model\n",
    "    mdl.fit(x_train_split, y_train_split)\n",
    "\n",
    "    # Predict and calculate metrics\n",
    "    y_val_pred = mdl.predict(x_val_split)\n",
    "    \n",
    "    if problem_type == 'regression':\n",
    "        # For regression, calculate loss as mean squared error\n",
    "        loss = mean_squared_error(y_val_split, y_val_pred)\n",
    "        accuracy = r2_score(y_val_split, y_val_pred)  # R^2 score as a measure of goodness\n",
    "    elif problem_type == 'classification':\n",
    "        # For classification, calculate loss as log loss\n",
    "        y_val_proba = mdl.predict_proba(x_val_split) if hasattr(mdl, \"predict_proba\") else None\n",
    "        loss = log_loss(y_val_split, y_val_proba) if y_val_proba is not None else 1 - accuracy_score(y_val_split, y_val_pred)\n",
    "        accuracy = accuracy_score(y_val_split, y_val_pred)\n",
    "\n",
    "    return loss, accuracy"
   ]
  },
  {
   "cell_type": "code",
   "execution_count": 6,
   "id": "19a02cd7-e7f3-4e84-97f8-82ee394b6ff7",
   "metadata": {},
   "outputs": [],
   "source": [
    "def calculate_fitness(loss, acc, features_selected, total_features, alpha=1.0, beta=1.0, gamma=1.0):\n",
    "    \"\"\"\n",
    "    Calculate the fitness of an individual based on loss, accuracy, and feature sparsity.\n",
    "\n",
    "    Parameters:\n",
    "    loss (float): Validation loss of the model.\n",
    "    acc (float): Validation accuracy of the model.\n",
    "    features_selected (int): Number of features selected by the individual.\n",
    "    total_features (int): Total number of available features.\n",
    "    alpha (float): Weight for the loss term.\n",
    "    beta (float): Weight for the accuracy term.\n",
    "    gamma (float): Weight for the sparsity term.\n",
    "\n",
    "    Returns:\n",
    "    float: The fitness value of the individual.\n",
    "    \"\"\"\n",
    "    if loss == 0:  # Prevent division by zero\n",
    "        raise ValueError(\"Loss cannot be zero.\")\n",
    "\n",
    "    # Calculate the percentage of features ignored\n",
    "    percent_features_ignored = (1 - features_selected / total_features) * 100\n",
    "\n",
    "    # Compute the fitness value\n",
    "    fitness = (\n",
    "        alpha * (1 / loss) +  # Minimize loss\n",
    "        beta * acc +          # Maximize accuracy\n",
    "        gamma * percent_features_ignored  # Maximize sparsity\n",
    "    ) ** 10  # Raise to the power of 10 to emphasize differences\n",
    "\n",
    "    return fitness"
   ]
  },
  {
   "cell_type": "markdown",
   "id": "a7804a0d-9ec8-4e5c-aa92-faa089f1739c",
   "metadata": {},
   "source": [
    "### Select parents (step 4)"
   ]
  },
  {
   "cell_type": "markdown",
   "id": "2238127e-be9a-4085-b1de-1bb08365bfa7",
   "metadata": {},
   "source": [
    "This function chooses parents for the next generation using a combination of elite selection (based on accuracy) and a roulette wheel selection strategy to ensure that well-performing individuals have a higher chance of being selected while maintaining diversity.\n",
    "\n",
    "The first few lines inside the function calculate the number of elite individuals to keep based on `elite_percent`, sort the individuals in the population in descending order of fitness scores using `np.argsort(-accuracy)`, and select the top `elite_num` individuals as the elite population. The calculation `elite_num = int(round(((elite_percent * population.shape[0]) // 2) * 2))` ensures that `elite_num` is always even so that each elite individual has a potential partner for mating. The `elite_population` array contains these elite individuals that will be preserved for the next generation without mutation.\n",
    "\n",
    "The rest of the parents are picked based on their accuracy scores using a roulette wheel selection strategy. The `accuracy` array holds the R^2 scores for each individual in the population. The process works as follows:\n",
    "1. The accuracy scores are normalized to create a weight distribution, and cumulative weights are calculated to represent the total fitness distribution.\n",
    "2. A random number between 0 and the total cumulative weight is generated to simulate the roulette wheel.\n",
    "3. The function uses `np.searchsorted` to find the index where the random number fits within the cumulative weights. This index corresponds to a selected chromosome, with higher accuracy scores having greater weights and thus a higher probability of selection.\n",
    "\n",
    "The function returns an array of chosen parents, which includes both the elite individuals and non-elite individuals selected by the roulette wheel method. This approach maintains a balance between retaining the best-performing solutions and introducing diversity for the next generation.\n"
   ]
  },
  {
   "cell_type": "code",
   "execution_count": 5,
   "id": "11993079-a6b2-4244-80d0-b45b6b3fc25f",
   "metadata": {},
   "outputs": [],
   "source": [
    "# Function to choose parents based on performance\n",
    "def choose_parents(population, accuracy, elite_percent):\n",
    "    \"\"\"\n",
    "    Select parents for the next generation based on performance.\n",
    "\n",
    "    Parameters:\n",
    "    population (np.ndarray): Current population of individuals.\n",
    "    accuracy (np.ndarray): Array of R^2 scores for each individual.\n",
    "    elite_percent (float): Percentage of top individuals to preserve as elite.\n",
    "\n",
    "    Returns:\n",
    "    np.ndarray: Selected parents for crossover.\n",
    "    \"\"\"\n",
    "    # Get the number of elite numbers based on the percent of the elite, and ensure that the number is even\n",
    "    elite_num = int(round(((elite_percent * population.shape[0]) // 2) * 2))\n",
    "    # The accuracy scores of each individual (chromosome) in the population, to be sorted in descending order\n",
    "    ind_ac = np.argsort(-accuracy)\n",
    "    # Get the elite population \n",
    "    top_perc = ind_ac[:elite_num] #get the elite indices\n",
    "    elite_population = population[top_perc, :] #keep the elite population\n",
    "\n",
    "    # Normalize accuracy to obtain weights for roulette wheel selection\n",
    "    weight_norm = accuracy / accuracy.sum() # calculate normalised weight from accuracy\n",
    "    weight_comu = weight_norm.cumsum() # calculate cumulative weight from accuracy\n",
    "\n",
    "    # Roulette wheel selection\n",
    "    num_parents_wo_elite = population.shape[0] - elite_num # Number of non-elite parents to select\n",
    "    parents_wo_elite = np.empty([num_parents_wo_elite, population.shape[1]]) # Initialize array of parents that are no elites\n",
    "    for count in range(num_parents_wo_elite): # Loop over all the population that's not elite\n",
    "        rand_num = np.random.uniform(0, weight_comu[-1]) # Generate a random number within the cumulative distribution\n",
    "        indices = np.searchsorted(weight_comu, rand_num) # Find the index in the cumulative array that matches or exceeds rand_num\n",
    "        parents_wo_elite[count, :] = population[indices, :] # Select the individual at this index\n",
    "\n",
    "    parents = np.concatenate((elite_population, parents_wo_elite), axis=0) # Combine elite and non-elite parents into one array\n",
    "    return parents"
   ]
  },
  {
   "cell_type": "markdown",
   "id": "b9b23819-d8b9-4424-b615-bcecd1f80e50",
   "metadata": {},
   "source": [
    "### Generate children and mutate with probability (step 5 & 6)"
   ]
  },
  {
   "cell_type": "markdown",
   "id": "b4191797-0708-4e20-8988-86b26bded856",
   "metadata": {},
   "source": [
    "The function first calculates the number of elite individuals based on the `elite_percentinput`, and then selects the elite individuals to be directly passed on to the next generation. The remaining children are created using the one-point crossover method, where pairs of parents are selected and a random crossover point is chosen. The children are created by combining the first part of one parent and the second part of the other parent after the crossover point.\n",
    "\n",
    "After the crossover operation, the function checks if each child has between the minimum number of features and maximum number of features. If the number of 1s (true values) is greater than the maximum allowed number of features, some of the true values are randomly changed to false values. Similarly, if the number of 1s is less than the minimum allowed number of features, some of the false values are randomly changed to true values.\n",
    "\n",
    "Finally, the function performs mutation by randomly selecting some bits in the child and flipping them from 0 to 1 or from 1 to 0 based on the mutation probability and the number of features already present in the offspring.\n",
    "\n",
    "The output of the function is a 2D numpy array representing the child population after the one-point crossover and mutation operations.\n",
    "\n"
   ]
  },
  {
   "cell_type": "code",
   "execution_count": 6,
   "id": "c6a94cf3-21b4-48cc-9c18-7bba54af028f",
   "metadata": {},
   "outputs": [],
   "source": [
    "def one_point_crossover(parents, elite_percent, mutation_probability, min_features, max_features):\n",
    "    \"\"\"\n",
    "    Perform one-point crossover and mutation to generate new individuals.\n",
    "\n",
    "    Parameters:\n",
    "    parents (np.ndarray): Array of selected parents.\n",
    "    elite_percent (float): Percentage of parents to keep as elite.\n",
    "    mutation_probability (float): Probability of mutation occurring in an individual.\n",
    "    min_features (int): Minimum number of features to include in an individual.\n",
    "    max_features (int): Maximum number of features to include in an individual.\n",
    "\n",
    "    Returns:\n",
    "    np.ndarray: New population generated after crossover and mutation.\n",
    "    \"\"\"\n",
    "    # Calculate the number of elite individuals to retain (always even for pairing).\n",
    "    elite_num = int(round(((elite_percent * parents.shape[0]) // 2) * 2))\n",
    "    \n",
    "    # Initialize the new population with zeros, having the same shape as parents.\n",
    "    crossover_population = np.zeros((parents.shape[0], parents.shape[1]))\n",
    "    \n",
    "    # Copy elite individuals directly into the new population.\n",
    "    crossover_population[0:elite_num, :] = parents[0:elite_num, :]\n",
    "\n",
    "    # Perform one-point crossover for the remaining individuals.\n",
    "    for ii in range(int((parents.shape[0] - elite_num) / 2)):\n",
    "        n = 2 * ii + elite_num  # Index for selecting parent pairs for crossover.\n",
    "        parents_couple = parents[n:n + 2, :]  # Select two consecutive parents.\n",
    "        rand_n = np.random.randint(1, parents.shape[1] - 1)  # Random crossover point (not at the boundaries).\n",
    "        \n",
    "        # Create two new offspring by splitting and combining the parent chromosomes at rand_n.\n",
    "        crossover_population[n, :] = np.concatenate([parents_couple[0, :rand_n], parents_couple[1, rand_n:]])\n",
    "        crossover_population[n + 1, :] = np.concatenate([parents_couple[1, :rand_n], parents_couple[0, rand_n:]])\n",
    "\n",
    "    # Ensure that each individual's feature count stays within min and max limits.\n",
    "    for kk in range(crossover_population.shape[0]):\n",
    "        Sum = np.sum(crossover_population[kk, :])  # Total number of selected features in an individual.\n",
    "        if Sum > max_features:  # If it exceeds the max limit:\n",
    "            excess = int(Sum - max_features)  # Number of features to remove.\n",
    "            indices = np.where(crossover_population[kk, :] == 1)[0]  # Indices of selected features.\n",
    "            position1 = np.random.choice(indices, size=excess, replace=False)  # Randomly choose features to turn off.\n",
    "            crossover_population[kk, position1] = 0  # Set them to 0.\n",
    "        elif Sum < min_features:  # If it falls below the min limit:\n",
    "            missing = int(min_features - Sum)  # Number of features to add.\n",
    "            indices = np.where(crossover_population[kk, :] == 0)[0]  # Indices of unselected features.\n",
    "            position2 = np.random.choice(indices, size=missing, replace=False)  # Randomly choose features to turn on.\n",
    "            crossover_population[kk, position2] = 1  # Set them to 1.\n",
    "\n",
    "    # Introduce mutations randomly based on the mutation probability.\n",
    "    num_mutations = round(crossover_population.size * mutation_probability)  # Total number of mutations.\n",
    "    for _ in range(num_mutations):\n",
    "        ind_row = np.random.randint(0, crossover_population.shape[0])  # Random individual in the population.\n",
    "        ind_col = np.random.randint(0, crossover_population.shape[1])  # Random feature position in the individual.\n",
    "        \n",
    "        # Mutate the feature (toggle between 0 and 1) while adhering to feature count constraints.\n",
    "        if (crossover_population[ind_row, ind_col] == 0 and np.sum(crossover_population[ind_row, :]) < max_features):\n",
    "            crossover_population[ind_row, ind_col] = 1  # Turn on a feature if within max limit.\n",
    "        elif (crossover_population[ind_row, ind_col] == 1 and np.sum(crossover_population[ind_row, :]) >= min_features + 1):\n",
    "            crossover_population[ind_row, ind_col] = 0  # Turn off a feature if above min limit.\n",
    "\n",
    "    # Return the new population after crossover and mutation.\n",
    "    return crossover_population"
   ]
  },
  {
   "cell_type": "markdown",
   "id": "f3e0bf59-8054-487b-8112-e362b3cefecd",
   "metadata": {},
   "source": [
    "## Read inputs and run "
   ]
  },
  {
   "cell_type": "code",
   "execution_count": 7,
   "id": "141ae6de-8bba-42f2-acec-946c5e5c23e9",
   "metadata": {},
   "outputs": [],
   "source": [
    "# Read inputs. Note: performing feature selection is done on the training set\n",
    "dataset = pd.read_csv('../3_train_test_split/train_set.csv')\n",
    "\n",
    "X = dataset.drop(columns=['-logIC50'])\n",
    "y = dataset['-logIC50']\n",
    "num_features = X.shape[1]"
   ]
  },
  {
   "cell_type": "code",
   "execution_count": 8,
   "id": "6ce94bc1-fdb5-4bd8-a501-a830c3a4bb77",
   "metadata": {},
   "outputs": [
    {
     "name": "stdout",
     "output_type": "stream",
     "text": [
      "Running genetic algorithm for model: random_forest\n"
     ]
    },
    {
     "name": "stderr",
     "output_type": "stream",
     "text": [
      "Progress for random_forest:   0%|                                                                                            | 0/19 [00:00<?, ?gen/s]"
     ]
    },
    {
     "name": "stdout",
     "output_type": "stream",
     "text": [
      "Begin iteration num 2/20\n"
     ]
    },
    {
     "name": "stderr",
     "output_type": "stream",
     "text": [
      "Progress for random_forest:   5%|████▍                                                                               | 1/19 [00:42<12:36, 42.01s/gen]"
     ]
    },
    {
     "name": "stdout",
     "output_type": "stream",
     "text": [
      "Begin iteration num 3/20\n"
     ]
    },
    {
     "name": "stderr",
     "output_type": "stream",
     "text": [
      "Progress for random_forest:  11%|████████▊                                                                           | 2/19 [01:21<11:27, 40.44s/gen]"
     ]
    },
    {
     "name": "stdout",
     "output_type": "stream",
     "text": [
      "Begin iteration num 4/20\n"
     ]
    },
    {
     "name": "stderr",
     "output_type": "stream",
     "text": [
      "Progress for random_forest:  16%|█████████████▎                                                                      | 3/19 [02:01<10:46, 40.41s/gen]"
     ]
    },
    {
     "name": "stdout",
     "output_type": "stream",
     "text": [
      "Begin iteration num 5/20\n"
     ]
    },
    {
     "name": "stderr",
     "output_type": "stream",
     "text": [
      "Progress for random_forest:  21%|█████████████████▋                                                                  | 4/19 [02:42<10:09, 40.66s/gen]"
     ]
    },
    {
     "name": "stdout",
     "output_type": "stream",
     "text": [
      "Begin iteration num 6/20\n"
     ]
    },
    {
     "name": "stderr",
     "output_type": "stream",
     "text": [
      "Progress for random_forest:  26%|██████████████████████                                                              | 5/19 [03:24<09:35, 41.13s/gen]"
     ]
    },
    {
     "name": "stdout",
     "output_type": "stream",
     "text": [
      "Begin iteration num 7/20\n"
     ]
    },
    {
     "name": "stderr",
     "output_type": "stream",
     "text": [
      "Progress for random_forest:  32%|██████████████████████████▌                                                         | 6/19 [04:03<08:46, 40.48s/gen]"
     ]
    },
    {
     "name": "stdout",
     "output_type": "stream",
     "text": [
      "Begin iteration num 8/20\n"
     ]
    },
    {
     "name": "stderr",
     "output_type": "stream",
     "text": [
      "Progress for random_forest:  37%|██████████████████████████████▉                                                     | 7/19 [04:41<07:52, 39.41s/gen]"
     ]
    },
    {
     "name": "stdout",
     "output_type": "stream",
     "text": [
      "Begin iteration num 9/20\n"
     ]
    },
    {
     "name": "stderr",
     "output_type": "stream",
     "text": [
      "Progress for random_forest:  42%|███████████████████████████████████▎                                                | 8/19 [05:18<07:07, 38.83s/gen]"
     ]
    },
    {
     "name": "stdout",
     "output_type": "stream",
     "text": [
      "Begin iteration num 10/20\n"
     ]
    },
    {
     "name": "stderr",
     "output_type": "stream",
     "text": [
      "Progress for random_forest:  47%|███████████████████████████████████████▊                                            | 9/19 [05:58<06:29, 39.00s/gen]"
     ]
    },
    {
     "name": "stdout",
     "output_type": "stream",
     "text": [
      "Begin iteration num 11/20\n"
     ]
    },
    {
     "name": "stderr",
     "output_type": "stream",
     "text": [
      "Progress for random_forest:  53%|███████████████████████████████████████████▋                                       | 10/19 [06:38<05:55, 39.49s/gen]"
     ]
    },
    {
     "name": "stdout",
     "output_type": "stream",
     "text": [
      "Begin iteration num 12/20\n"
     ]
    },
    {
     "name": "stderr",
     "output_type": "stream",
     "text": [
      "Progress for random_forest:  58%|████████████████████████████████████████████████                                   | 11/19 [07:18<05:16, 39.54s/gen]"
     ]
    },
    {
     "name": "stdout",
     "output_type": "stream",
     "text": [
      "Begin iteration num 13/20\n"
     ]
    },
    {
     "name": "stderr",
     "output_type": "stream",
     "text": [
      "Progress for random_forest:  63%|████████████████████████████████████████████████████▍                              | 12/19 [07:56<04:33, 39.13s/gen]"
     ]
    },
    {
     "name": "stdout",
     "output_type": "stream",
     "text": [
      "Begin iteration num 14/20\n"
     ]
    },
    {
     "name": "stderr",
     "output_type": "stream",
     "text": [
      "Progress for random_forest:  68%|████████████████████████████████████████████████████████▊                          | 13/19 [08:35<03:54, 39.00s/gen]"
     ]
    },
    {
     "name": "stdout",
     "output_type": "stream",
     "text": [
      "Begin iteration num 15/20\n"
     ]
    },
    {
     "name": "stderr",
     "output_type": "stream",
     "text": [
      "Progress for random_forest:  74%|█████████████████████████████████████████████████████████████▏                     | 14/19 [09:13<03:13, 38.77s/gen]"
     ]
    },
    {
     "name": "stdout",
     "output_type": "stream",
     "text": [
      "Begin iteration num 16/20\n"
     ]
    },
    {
     "name": "stderr",
     "output_type": "stream",
     "text": [
      "Progress for random_forest:  79%|█████████████████████████████████████████████████████████████████▌                 | 15/19 [09:51<02:33, 38.40s/gen]"
     ]
    },
    {
     "name": "stdout",
     "output_type": "stream",
     "text": [
      "Begin iteration num 17/20\n"
     ]
    },
    {
     "name": "stderr",
     "output_type": "stream",
     "text": [
      "Progress for random_forest:  84%|█████████████████████████████████████████████████████████████████████▉             | 16/19 [10:28<01:54, 38.01s/gen]"
     ]
    },
    {
     "name": "stdout",
     "output_type": "stream",
     "text": [
      "Begin iteration num 18/20\n"
     ]
    },
    {
     "name": "stderr",
     "output_type": "stream",
     "text": [
      "Progress for random_forest:  89%|██████████████████████████████████████████████████████████████████████████▎        | 17/19 [11:05<01:15, 37.90s/gen]"
     ]
    },
    {
     "name": "stdout",
     "output_type": "stream",
     "text": [
      "Begin iteration num 19/20\n"
     ]
    },
    {
     "name": "stderr",
     "output_type": "stream",
     "text": [
      "Progress for random_forest:  95%|██████████████████████████████████████████████████████████████████████████████▋    | 18/19 [11:42<00:37, 37.47s/gen]"
     ]
    },
    {
     "name": "stdout",
     "output_type": "stream",
     "text": [
      "Begin iteration num 20/20\n"
     ]
    },
    {
     "name": "stderr",
     "output_type": "stream",
     "text": [
      "Progress for random_forest: 100%|███████████████████████████████████████████████████████████████████████████████████| 19/19 [12:19<00:00, 38.89s/gen]\n"
     ]
    },
    {
     "data": {
      "image/png": "[encoded data removed]",
      "text/plain": [
       "<Figure size 640x480 with 1 Axes>"
      ]
     },
     "metadata": {},
     "output_type": "display_data"
    },
    {
     "name": "stdout",
     "output_type": "stream",
     "text": [
      "Best features selected for random_forest: Index(['PBF', 'GETAWAY_7', 'GETAWAY_19', 'GETAWAY_21', 'GETAWAY_46',\n",
      "       'GETAWAY_73', 'GETAWAY_78', 'GETAWAY_146', 'GETAWAY_152', 'GETAWAY_173',\n",
      "       'GETAWAY_224', 'GETAWAY_238', 'GETAWAY_239', 'GETAWAY_271', 'WHIM_7',\n",
      "       'WHIM_18', 'WHIM_35', 'WHIM_63', 'WHIM_85', 'WHIM_106', 'MORSE_24',\n",
      "       'MORSE_46', 'MORSE_59', 'MORSE_90', 'MORSE_99', 'MORSE_119',\n",
      "       'MORSE_124', 'MORSE_133', 'MORSE_186', 'MORSE_196', 'RDF_9', 'RDF_30',\n",
      "       'RDF_118', 'RDF_154', 'RDF_164', 'RDF_171', 'RDF_181', 'AUTOCORR3D_0',\n",
      "       'AUTOCORR3D_7', 'AUTOCORR3D_15', 'AUTOCORR3D_23', 'AUTOCORR3D_51',\n",
      "       'AUTOCORR3D_54', 'AUTOCORR3D_77', 'LUMO', 'PEOE_VSA2', 'GGI10', 'JGI6',\n",
      "       'JGT', 'ringCount'],\n",
      "      dtype='object')\n",
      "Running genetic algorithm for model: xgboost\n"
     ]
    },
    {
     "name": "stderr",
     "output_type": "stream",
     "text": [
      "Progress for xgboost:   0%|                                                                                                  | 0/19 [00:00<?, ?gen/s]"
     ]
    },
    {
     "name": "stdout",
     "output_type": "stream",
     "text": [
      "Begin iteration num 2/20\n"
     ]
    },
    {
     "name": "stderr",
     "output_type": "stream",
     "text": [
      "Progress for xgboost:   5%|████▋                                                                                     | 1/19 [00:10<03:13, 10.76s/gen]"
     ]
    },
    {
     "name": "stdout",
     "output_type": "stream",
     "text": [
      "Begin iteration num 3/20\n"
     ]
    },
    {
     "name": "stderr",
     "output_type": "stream",
     "text": [
      "Progress for xgboost:  11%|█████████▍                                                                                | 2/19 [00:22<03:10, 11.20s/gen]"
     ]
    },
    {
     "name": "stdout",
     "output_type": "stream",
     "text": [
      "Begin iteration num 4/20\n"
     ]
    },
    {
     "name": "stderr",
     "output_type": "stream",
     "text": [
      "Progress for xgboost:  16%|██████████████▏                                                                           | 3/19 [00:34<03:10, 11.89s/gen]"
     ]
    },
    {
     "name": "stdout",
     "output_type": "stream",
     "text": [
      "Begin iteration num 5/20\n"
     ]
    },
    {
     "name": "stderr",
     "output_type": "stream",
     "text": [
      "Progress for xgboost:  21%|██████████████████▉                                                                       | 4/19 [00:47<03:00, 12.02s/gen]"
     ]
    },
    {
     "name": "stdout",
     "output_type": "stream",
     "text": [
      "Begin iteration num 6/20\n"
     ]
    },
    {
     "name": "stderr",
     "output_type": "stream",
     "text": [
      "Progress for xgboost:  26%|███████████████████████▋                                                                  | 5/19 [01:00<02:52, 12.32s/gen]"
     ]
    },
    {
     "name": "stdout",
     "output_type": "stream",
     "text": [
      "Begin iteration num 7/20\n"
     ]
    },
    {
     "name": "stderr",
     "output_type": "stream",
     "text": [
      "Progress for xgboost:  32%|████████████████████████████▍                                                             | 6/19 [01:13<02:46, 12.84s/gen]"
     ]
    },
    {
     "name": "stdout",
     "output_type": "stream",
     "text": [
      "Begin iteration num 8/20\n"
     ]
    },
    {
     "name": "stderr",
     "output_type": "stream",
     "text": [
      "Progress for xgboost:  37%|█████████████████████████████████▏                                                        | 7/19 [01:37<03:15, 16.29s/gen]"
     ]
    },
    {
     "name": "stdout",
     "output_type": "stream",
     "text": [
      "Begin iteration num 9/20\n"
     ]
    },
    {
     "name": "stderr",
     "output_type": "stream",
     "text": [
      "Progress for xgboost:  42%|█████████████████████████████████████▉                                                    | 8/19 [02:01<03:27, 18.87s/gen]"
     ]
    },
    {
     "name": "stdout",
     "output_type": "stream",
     "text": [
      "Begin iteration num 10/20\n"
     ]
    },
    {
     "name": "stderr",
     "output_type": "stream",
     "text": [
      "Progress for xgboost:  47%|██████████████████████████████████████████▋                                               | 9/19 [02:20<03:07, 18.79s/gen]"
     ]
    },
    {
     "name": "stdout",
     "output_type": "stream",
     "text": [
      "Begin iteration num 11/20\n"
     ]
    },
    {
     "name": "stderr",
     "output_type": "stream",
     "text": [
      "Progress for xgboost:  53%|██████████████████████████████████████████████▊                                          | 10/19 [02:36<02:40, 17.84s/gen]"
     ]
    },
    {
     "name": "stdout",
     "output_type": "stream",
     "text": [
      "Begin iteration num 12/20\n"
     ]
    },
    {
     "name": "stderr",
     "output_type": "stream",
     "text": [
      "Progress for xgboost:  58%|███████████████████████████████████████████████████▌                                     | 11/19 [02:51<02:16, 17.03s/gen]"
     ]
    },
    {
     "name": "stdout",
     "output_type": "stream",
     "text": [
      "Begin iteration num 13/20\n"
     ]
    },
    {
     "name": "stderr",
     "output_type": "stream",
     "text": [
      "Progress for xgboost:  63%|████████████████████████████████████████████████████████▏                                | 12/19 [03:06<01:55, 16.52s/gen]"
     ]
    },
    {
     "name": "stdout",
     "output_type": "stream",
     "text": [
      "Begin iteration num 14/20\n"
     ]
    },
    {
     "name": "stderr",
     "output_type": "stream",
     "text": [
      "Progress for xgboost:  68%|████████████████████████████████████████████████████████████▉                            | 13/19 [03:21<01:36, 16.10s/gen]"
     ]
    },
    {
     "name": "stdout",
     "output_type": "stream",
     "text": [
      "Begin iteration num 15/20\n"
     ]
    },
    {
     "name": "stderr",
     "output_type": "stream",
     "text": [
      "Progress for xgboost:  74%|█████████████████████████████████████████████████████████████████▌                       | 14/19 [03:37<01:20, 16.05s/gen]"
     ]
    },
    {
     "name": "stdout",
     "output_type": "stream",
     "text": [
      "Begin iteration num 16/20\n"
     ]
    },
    {
     "name": "stderr",
     "output_type": "stream",
     "text": [
      "Progress for xgboost:  79%|██████████████████████████████████████████████████████████████████████▎                  | 15/19 [03:53<01:03, 16.00s/gen]"
     ]
    },
    {
     "name": "stdout",
     "output_type": "stream",
     "text": [
      "Begin iteration num 17/20\n"
     ]
    },
    {
     "name": "stderr",
     "output_type": "stream",
     "text": [
      "Progress for xgboost:  84%|██████████████████████████████████████████████████████████████████████████▉              | 16/19 [04:09<00:48, 16.07s/gen]"
     ]
    },
    {
     "name": "stdout",
     "output_type": "stream",
     "text": [
      "Begin iteration num 18/20\n"
     ]
    },
    {
     "name": "stderr",
     "output_type": "stream",
     "text": [
      "Progress for xgboost:  89%|███████████████████████████████████████████████████████████████████████████████▋         | 17/19 [04:25<00:31, 15.99s/gen]"
     ]
    },
    {
     "name": "stdout",
     "output_type": "stream",
     "text": [
      "Begin iteration num 19/20\n"
     ]
    },
    {
     "name": "stderr",
     "output_type": "stream",
     "text": [
      "Progress for xgboost:  95%|████████████████████████████████████████████████████████████████████████████████████▎    | 18/19 [04:41<00:16, 16.01s/gen]"
     ]
    },
    {
     "name": "stdout",
     "output_type": "stream",
     "text": [
      "Begin iteration num 20/20\n"
     ]
    },
    {
     "name": "stderr",
     "output_type": "stream",
     "text": [
      "Progress for xgboost: 100%|█████████████████████████████████████████████████████████████████████████████████████████| 19/19 [04:58<00:00, 15.70s/gen]\n"
     ]
    },
    {
     "data": {
      "image/png": "[encoded data removed]",
      "text/plain": [
       "<Figure size 640x480 with 1 Axes>"
      ]
     },
     "metadata": {},
     "output_type": "display_data"
    },
    {
     "name": "stdout",
     "output_type": "stream",
     "text": [
      "Best features selected for xgboost: Index(['GETAWAY_3', 'GETAWAY_10', 'GETAWAY_58', 'GETAWAY_81', 'GETAWAY_88',\n",
      "       'GETAWAY_89', 'GETAWAY_94', 'GETAWAY_105', 'GETAWAY_108', 'GETAWAY_136',\n",
      "       'GETAWAY_145', 'GETAWAY_146', 'GETAWAY_174', 'GETAWAY_196',\n",
      "       'GETAWAY_206', 'GETAWAY_228', 'GETAWAY_257', 'GETAWAY_259',\n",
      "       'GETAWAY_261', 'WHIM_28', 'WHIM_50', 'WHIM_54', 'WHIM_85', 'MORSE_39',\n",
      "       'MORSE_110', 'MORSE_115', 'MORSE_196', 'RDF_46', 'RDF_48', 'RDF_57',\n",
      "       'RDF_86', 'RDF_120', 'RDF_121', 'RDF_122', 'RDF_154', 'RDF_156',\n",
      "       'RDF_158', 'RDF_179', 'RDF_190', 'AUTOCORR3D_2', 'AUTOCORR3D_17',\n",
      "       'AUTOCORR3D_44', 'AUTOCORR3D_49', 'AUTOCORR3D_61', 'AUTOCORR3D_66',\n",
      "       'HOMO', 'TPSA', 'Kappa2', 'PEOE_VSA6', 'rotatableBonds'],\n",
      "      dtype='object')\n",
      "Running genetic algorithm for model: linear_regression\n"
     ]
    },
    {
     "name": "stderr",
     "output_type": "stream",
     "text": [
      "Progress for linear_regression:   0%|                                                                                        | 0/19 [00:00<?, ?gen/s]"
     ]
    },
    {
     "name": "stdout",
     "output_type": "stream",
     "text": [
      "Begin iteration num 2/20\n"
     ]
    },
    {
     "name": "stderr",
     "output_type": "stream",
     "text": [
      "Progress for linear_regression:   5%|████▏                                                                           | 1/19 [00:00<00:14,  1.24gen/s]"
     ]
    },
    {
     "name": "stdout",
     "output_type": "stream",
     "text": [
      "Begin iteration num 3/20\n"
     ]
    },
    {
     "name": "stderr",
     "output_type": "stream",
     "text": [
      "Progress for linear_regression:  11%|████████▍                                                                       | 2/19 [00:01<00:13,  1.23gen/s]"
     ]
    },
    {
     "name": "stdout",
     "output_type": "stream",
     "text": [
      "Begin iteration num 4/20\n"
     ]
    },
    {
     "name": "stderr",
     "output_type": "stream",
     "text": [
      "Progress for linear_regression:  16%|████████████▋                                                                   | 3/19 [00:02<00:12,  1.24gen/s]"
     ]
    },
    {
     "name": "stdout",
     "output_type": "stream",
     "text": [
      "Begin iteration num 5/20\n"
     ]
    },
    {
     "name": "stderr",
     "output_type": "stream",
     "text": [
      "Progress for linear_regression:  21%|████████████████▊                                                               | 4/19 [00:03<00:11,  1.25gen/s]"
     ]
    },
    {
     "name": "stdout",
     "output_type": "stream",
     "text": [
      "Begin iteration num 6/20\n"
     ]
    },
    {
     "name": "stderr",
     "output_type": "stream",
     "text": [
      "Progress for linear_regression:  26%|█████████████████████                                                           | 5/19 [00:04<00:11,  1.23gen/s]"
     ]
    },
    {
     "name": "stdout",
     "output_type": "stream",
     "text": [
      "Begin iteration num 7/20\n"
     ]
    },
    {
     "name": "stderr",
     "output_type": "stream",
     "text": [
      "Progress for linear_regression:  32%|█████████████████████████▎                                                      | 6/19 [00:04<00:10,  1.23gen/s]"
     ]
    },
    {
     "name": "stdout",
     "output_type": "stream",
     "text": [
      "Begin iteration num 8/20\n"
     ]
    },
    {
     "name": "stderr",
     "output_type": "stream",
     "text": [
      "Progress for linear_regression:  37%|█████████████████████████████▍                                                  | 7/19 [00:05<00:09,  1.24gen/s]"
     ]
    },
    {
     "name": "stdout",
     "output_type": "stream",
     "text": [
      "Begin iteration num 9/20\n"
     ]
    },
    {
     "name": "stderr",
     "output_type": "stream",
     "text": [
      "Progress for linear_regression:  42%|█████████████████████████████████▋                                              | 8/19 [00:06<00:08,  1.24gen/s]"
     ]
    },
    {
     "name": "stdout",
     "output_type": "stream",
     "text": [
      "Begin iteration num 10/20\n"
     ]
    },
    {
     "name": "stderr",
     "output_type": "stream",
     "text": [
      "Progress for linear_regression:  47%|█████████████████████████████████████▉                                          | 9/19 [00:07<00:08,  1.24gen/s]"
     ]
    },
    {
     "name": "stdout",
     "output_type": "stream",
     "text": [
      "Begin iteration num 11/20\n"
     ]
    },
    {
     "name": "stderr",
     "output_type": "stream",
     "text": [
      "Progress for linear_regression:  53%|█████████████████████████████████████████▌                                     | 10/19 [00:08<00:07,  1.24gen/s]"
     ]
    },
    {
     "name": "stdout",
     "output_type": "stream",
     "text": [
      "Begin iteration num 12/20\n"
     ]
    },
    {
     "name": "stderr",
     "output_type": "stream",
     "text": [
      "Progress for linear_regression:  58%|█████████████████████████████████████████████▋                                 | 11/19 [00:08<00:06,  1.25gen/s]"
     ]
    },
    {
     "name": "stdout",
     "output_type": "stream",
     "text": [
      "Begin iteration num 13/20\n"
     ]
    },
    {
     "name": "stderr",
     "output_type": "stream",
     "text": [
      "Progress for linear_regression:  63%|█████████████████████████████████████████████████▉                             | 12/19 [00:09<00:05,  1.26gen/s]"
     ]
    },
    {
     "name": "stdout",
     "output_type": "stream",
     "text": [
      "Begin iteration num 14/20\n"
     ]
    },
    {
     "name": "stderr",
     "output_type": "stream",
     "text": [
      "Progress for linear_regression:  68%|██████████████████████████████████████████████████████                         | 13/19 [00:10<00:04,  1.27gen/s]"
     ]
    },
    {
     "name": "stdout",
     "output_type": "stream",
     "text": [
      "Begin iteration num 15/20\n"
     ]
    },
    {
     "name": "stderr",
     "output_type": "stream",
     "text": [
      "Progress for linear_regression:  74%|██████████████████████████████████████████████████████████▏                    | 14/19 [00:11<00:03,  1.28gen/s]"
     ]
    },
    {
     "name": "stdout",
     "output_type": "stream",
     "text": [
      "Begin iteration num 16/20\n"
     ]
    },
    {
     "name": "stderr",
     "output_type": "stream",
     "text": [
      "Progress for linear_regression:  79%|██████████████████████████████████████████████████████████████▎                | 15/19 [00:11<00:03,  1.27gen/s]"
     ]
    },
    {
     "name": "stdout",
     "output_type": "stream",
     "text": [
      "Begin iteration num 17/20\n"
     ]
    },
    {
     "name": "stderr",
     "output_type": "stream",
     "text": [
      "Progress for linear_regression:  84%|██████████████████████████████████████████████████████████████████▌            | 16/19 [00:12<00:02,  1.30gen/s]"
     ]
    },
    {
     "name": "stdout",
     "output_type": "stream",
     "text": [
      "Begin iteration num 18/20\n"
     ]
    },
    {
     "name": "stderr",
     "output_type": "stream",
     "text": [
      "Progress for linear_regression:  89%|██████████████████████████████████████████████████████████████████████▋        | 17/19 [00:13<00:01,  1.31gen/s]"
     ]
    },
    {
     "name": "stdout",
     "output_type": "stream",
     "text": [
      "Begin iteration num 19/20\n"
     ]
    },
    {
     "name": "stderr",
     "output_type": "stream",
     "text": [
      "Progress for linear_regression:  95%|██████████████████████████████████████████████████████████████████████████▊    | 18/19 [00:14<00:00,  1.32gen/s]"
     ]
    },
    {
     "name": "stdout",
     "output_type": "stream",
     "text": [
      "Begin iteration num 20/20\n"
     ]
    },
    {
     "name": "stderr",
     "output_type": "stream",
     "text": [
      "Progress for linear_regression: 100%|███████████████████████████████████████████████████████████████████████████████| 19/19 [00:14<00:00,  1.27gen/s]\n"
     ]
    },
    {
     "data": {
      "image/png": "[encoded data removed]",
      "text/plain": [
       "<Figure size 640x480 with 1 Axes>"
      ]
     },
     "metadata": {},
     "output_type": "display_data"
    },
    {
     "name": "stdout",
     "output_type": "stream",
     "text": [
      "Best features selected for linear_regression: Index(['GETAWAY_39', 'GETAWAY_52', 'GETAWAY_65', 'GETAWAY_76', 'GETAWAY_86',\n",
      "       'GETAWAY_111', 'GETAWAY_113', 'GETAWAY_116', 'GETAWAY_137',\n",
      "       'GETAWAY_141', 'GETAWAY_173', 'GETAWAY_186', 'GETAWAY_194',\n",
      "       'GETAWAY_210', 'GETAWAY_238', 'GETAWAY_267', 'WHIM_16', 'WHIM_98',\n",
      "       'MORSE_24', 'MORSE_47', 'MORSE_61', 'MORSE_68', 'MORSE_70', 'MORSE_74',\n",
      "       'MORSE_78', 'MORSE_103', 'MORSE_127', 'MORSE_142', 'MORSE_189',\n",
      "       'MORSE_208', 'MORSE_222', 'RDF_10', 'RDF_19', 'RDF_40', 'RDF_87',\n",
      "       'RDF_149', 'RDF_166', 'RDF_174', 'RDF_188', 'RDF_207', 'AUTOCORR3D_20',\n",
      "       'AUTOCORR3D_60', 'TPSA', 'Chi3v', 'PEOE_VSA6', 'JGT', 'min_abs_charge',\n",
      "       'heteroatoms', 'molLogP', 'molMR'],\n",
      "      dtype='object')\n",
      "Running genetic algorithm for model: svr\n"
     ]
    },
    {
     "name": "stderr",
     "output_type": "stream",
     "text": [
      "Progress for svr:   0%|                                                                                                      | 0/19 [00:00<?, ?gen/s]"
     ]
    },
    {
     "name": "stdout",
     "output_type": "stream",
     "text": [
      "Begin iteration num 2/20\n"
     ]
    },
    {
     "name": "stderr",
     "output_type": "stream",
     "text": [
      "Progress for svr:   5%|████▉                                                                                         | 1/19 [00:03<01:05,  3.64s/gen]"
     ]
    },
    {
     "name": "stdout",
     "output_type": "stream",
     "text": [
      "Begin iteration num 3/20\n"
     ]
    },
    {
     "name": "stderr",
     "output_type": "stream",
     "text": [
      "Progress for svr:  11%|█████████▉                                                                                    | 2/19 [00:07<01:01,  3.63s/gen]"
     ]
    },
    {
     "name": "stdout",
     "output_type": "stream",
     "text": [
      "Begin iteration num 4/20\n"
     ]
    },
    {
     "name": "stderr",
     "output_type": "stream",
     "text": [
      "Progress for svr:  16%|██████████████▊                                                                               | 3/19 [00:10<00:58,  3.63s/gen]"
     ]
    },
    {
     "name": "stdout",
     "output_type": "stream",
     "text": [
      "Begin iteration num 5/20\n"
     ]
    },
    {
     "name": "stderr",
     "output_type": "stream",
     "text": [
      "Progress for svr:  21%|███████████████████▊                                                                          | 4/19 [00:14<00:55,  3.71s/gen]"
     ]
    },
    {
     "name": "stdout",
     "output_type": "stream",
     "text": [
      "Begin iteration num 6/20\n"
     ]
    },
    {
     "name": "stderr",
     "output_type": "stream",
     "text": [
      "Progress for svr:  26%|████████████████████████▋                                                                     | 5/19 [00:18<00:51,  3.68s/gen]"
     ]
    },
    {
     "name": "stdout",
     "output_type": "stream",
     "text": [
      "Begin iteration num 7/20\n"
     ]
    },
    {
     "name": "stderr",
     "output_type": "stream",
     "text": [
      "Progress for svr:  32%|█████████████████████████████▋                                                                | 6/19 [00:21<00:45,  3.50s/gen]"
     ]
    },
    {
     "name": "stdout",
     "output_type": "stream",
     "text": [
      "Begin iteration num 8/20\n"
     ]
    },
    {
     "name": "stderr",
     "output_type": "stream",
     "text": [
      "Progress for svr:  37%|██████████████████████████████████▋                                                           | 7/19 [00:24<00:40,  3.38s/gen]"
     ]
    },
    {
     "name": "stdout",
     "output_type": "stream",
     "text": [
      "Begin iteration num 9/20\n"
     ]
    },
    {
     "name": "stderr",
     "output_type": "stream",
     "text": [
      "Progress for svr:  42%|███████████████████████████████████████▌                                                      | 8/19 [00:27<00:36,  3.35s/gen]"
     ]
    },
    {
     "name": "stdout",
     "output_type": "stream",
     "text": [
      "Begin iteration num 10/20\n"
     ]
    },
    {
     "name": "stderr",
     "output_type": "stream",
     "text": [
      "Progress for svr:  47%|████████████████████████████████████████████▌                                                 | 9/19 [00:30<00:32,  3.22s/gen]"
     ]
    },
    {
     "name": "stdout",
     "output_type": "stream",
     "text": [
      "Begin iteration num 11/20\n"
     ]
    },
    {
     "name": "stderr",
     "output_type": "stream",
     "text": [
      "Progress for svr:  53%|████████████████████████████████████████████████▉                                            | 10/19 [00:33<00:28,  3.13s/gen]"
     ]
    },
    {
     "name": "stdout",
     "output_type": "stream",
     "text": [
      "Begin iteration num 12/20\n"
     ]
    },
    {
     "name": "stderr",
     "output_type": "stream",
     "text": [
      "Progress for svr:  58%|█████████████████████████████████████████████████████▊                                       | 11/19 [00:37<00:25,  3.16s/gen]"
     ]
    },
    {
     "name": "stdout",
     "output_type": "stream",
     "text": [
      "Begin iteration num 13/20\n"
     ]
    },
    {
     "name": "stderr",
     "output_type": "stream",
     "text": [
      "Progress for svr:  63%|██████████████████████████████████████████████████████████▋                                  | 12/19 [00:39<00:21,  3.08s/gen]"
     ]
    },
    {
     "name": "stdout",
     "output_type": "stream",
     "text": [
      "Begin iteration num 14/20\n"
     ]
    },
    {
     "name": "stderr",
     "output_type": "stream",
     "text": [
      "Progress for svr:  68%|███████████████████████████████████████████████████████████████▋                             | 13/19 [00:42<00:18,  3.04s/gen]"
     ]
    },
    {
     "name": "stdout",
     "output_type": "stream",
     "text": [
      "Begin iteration num 15/20\n"
     ]
    },
    {
     "name": "stderr",
     "output_type": "stream",
     "text": [
      "Progress for svr:  74%|████████████████████████████████████████████████████████████████████▌                        | 14/19 [00:45<00:15,  3.07s/gen]"
     ]
    },
    {
     "name": "stdout",
     "output_type": "stream",
     "text": [
      "Begin iteration num 16/20\n"
     ]
    },
    {
     "name": "stderr",
     "output_type": "stream",
     "text": [
      "Progress for svr:  79%|█████████████████████████████████████████████████████████████████████████▍                   | 15/19 [00:48<00:12,  3.01s/gen]"
     ]
    },
    {
     "name": "stdout",
     "output_type": "stream",
     "text": [
      "Begin iteration num 17/20\n"
     ]
    },
    {
     "name": "stderr",
     "output_type": "stream",
     "text": [
      "Progress for svr:  84%|██████████████████████████████████████████████████████████████████████████████▎              | 16/19 [00:51<00:08,  2.93s/gen]"
     ]
    },
    {
     "name": "stdout",
     "output_type": "stream",
     "text": [
      "Begin iteration num 18/20\n"
     ]
    },
    {
     "name": "stderr",
     "output_type": "stream",
     "text": [
      "Progress for svr:  89%|███████████████████████████████████████████████████████████████████████████████████▏         | 17/19 [00:54<00:05,  2.96s/gen]"
     ]
    },
    {
     "name": "stdout",
     "output_type": "stream",
     "text": [
      "Begin iteration num 19/20\n"
     ]
    },
    {
     "name": "stderr",
     "output_type": "stream",
     "text": [
      "Progress for svr:  95%|████████████████████████████████████████████████████████████████████████████████████████     | 18/19 [00:57<00:03,  3.01s/gen]"
     ]
    },
    {
     "name": "stdout",
     "output_type": "stream",
     "text": [
      "Begin iteration num 20/20\n"
     ]
    },
    {
     "name": "stderr",
     "output_type": "stream",
     "text": [
      "Progress for svr: 100%|█████████████████████████████████████████████████████████████████████████████████████████████| 19/19 [01:00<00:00,  3.19s/gen]\n"
     ]
    },
    {
     "data": {
      "image/png": "[encoded data removed]",
      "text/plain": [
       "<Figure size 640x480 with 1 Axes>"
      ]
     },
     "metadata": {},
     "output_type": "display_data"
    },
    {
     "name": "stdout",
     "output_type": "stream",
     "text": [
      "Best features selected for svr: Index(['GETAWAY_26', 'GETAWAY_28', 'GETAWAY_47', 'GETAWAY_57', 'GETAWAY_59',\n",
      "       'GETAWAY_84', 'GETAWAY_94', 'GETAWAY_117', 'GETAWAY_152', 'GETAWAY_198',\n",
      "       'GETAWAY_201', 'GETAWAY_211', 'GETAWAY_212', 'GETAWAY_224',\n",
      "       'GETAWAY_236', 'GETAWAY_261', 'GETAWAY_263', 'WHIM_57', 'WHIM_60',\n",
      "       'MORSE_16', 'MORSE_17', 'MORSE_27', 'MORSE_84', 'MORSE_122',\n",
      "       'MORSE_176', 'MORSE_198', 'MORSE_217', 'RDF_48', 'RDF_60', 'RDF_61',\n",
      "       'RDF_126', 'RDF_155', 'RDF_160', 'RDF_184', 'RDF_195', 'AUTOCORR3D_3',\n",
      "       'AUTOCORR3D_22', 'AUTOCORR3D_27', 'AUTOCORR3D_29', 'AUTOCORR3D_34',\n",
      "       'AUTOCORR3D_37', 'AUTOCORR3D_48', 'AUTOCORR3D_49', 'AUTOCORR3D_62',\n",
      "       'AUTOCORR3D_67', 'Chi4v', 'GGI3', 'GGI5', 'HDonors', 'rotatableBonds'],\n",
      "      dtype='object')\n"
     ]
    }
   ],
   "source": [
    "# Loop over each model type\n",
    "for model_type in model_types:\n",
    "    print(f'Running genetic algorithm for model: {model_type}')\n",
    "    gen = 0\n",
    "    population = generate_random_individuals(population_size, num_features, min_features, max_features)\n",
    "    fitness = np.zeros(population_size)  # Fitness values for the population\n",
    "    predictor_names = X.columns\n",
    "\n",
    "    # Initial generation evaluation\n",
    "    for i in range(population_size):\n",
    "        predictor_names_i = predictor_names[population[i, :] == 1]\n",
    "        num_features_selected = len(predictor_names_i)\n",
    "        \n",
    "        if num_features_selected > 0:  # Avoid evaluating invalid individuals\n",
    "            # Train the model and get performance metrics\n",
    "            loss, acc = train_model_with_loss(X, X, y, y, predictor_names_i, model_type=model_type)\n",
    "            # Calculate fitness\n",
    "            fitness[i] = calculate_fitness(\n",
    "                loss=loss,\n",
    "                acc=acc,\n",
    "                features_selected=num_features_selected,\n",
    "                total_features=num_features,\n",
    "                alpha=1.0, beta=1.5, gamma=2.0\n",
    "            )\n",
    "        else:\n",
    "            fitness[i] = -np.inf  # Assign a very low fitness to invalid individuals\n",
    "\n",
    "    # Track the best fitness in each generation\n",
    "    best_fitness_i = np.zeros(max_iterations)\n",
    "    best_fitness_i[gen] = max(fitness)\n",
    "\n",
    "    # Genetic algorithm main loop with a progress bar\n",
    "    with tqdm(total=max_iterations - 1, desc=f'Progress for {model_type}', unit='gen') as pbar:\n",
    "        while gen < max_iterations - 1:\n",
    "            gen += 1\n",
    "            # Select parents based on fitness\n",
    "            parents = choose_parents(population, fitness, elite_percent)\n",
    "            # Generate offspring through crossover and mutation\n",
    "            children = one_point_crossover(parents, elite_percent, mutation_probability, min_features, max_features)\n",
    "            population = children\n",
    "            \n",
    "            # Evaluate new population\n",
    "            for ind in range(population_size):\n",
    "                predictor_names_ind = predictor_names[population[ind, :] == 1]\n",
    "                num_features_selected = len(predictor_names_ind)\n",
    "                \n",
    "                if num_features_selected > 0:  # Avoid invalid individuals\n",
    "                    # Train the model and get performance metrics\n",
    "                    loss, acc = train_model_with_loss(X, X, y, y, predictor_names_ind, model_type=model_type)\n",
    "                    # Calculate fitness\n",
    "                    fitness[ind] = calculate_fitness(\n",
    "                        loss=loss,\n",
    "                        acc=acc,\n",
    "                        features_selected=num_features_selected,\n",
    "                        total_features=num_features,\n",
    "                        alpha=1.0, beta=1.5, gamma=2.0\n",
    "                    )\n",
    "                else:\n",
    "                    fitness[ind] = -np.inf  # Penalize invalid individuals\n",
    "\n",
    "            # Update the best fitness of the current generation\n",
    "            best_fitness_i[gen] = max(fitness)\n",
    "            pbar.update(1)  # Update progress bar for each generation\n",
    "\n",
    "    # Find the best feature subset from the final generation\n",
    "    ind_max_acc = np.argmax(accuracy)\n",
    "    best_features = population[ind_max_acc, :]\n",
    "    best_features_names = predictor_names[best_features == 1]\n",
    "\n",
    "    # Save the best features to CSV\n",
    "    best_features_df = pd.DataFrame(best_features_names, columns=['Selected Features'])\n",
    "    csv_filename = f'genetic_search_selected_features_{model_type}.csv'\n",
    "    best_features_df.to_csv(csv_filename, index=False)\n",
    "\n",
    "    mpl.rcParams[\"axes.formatter.limits\"] = (-99, 99)\n",
    "    # Plot the best accuracy over generations\n",
    "    plt.plot(range(1, max_iterations + 1), best_acc_i)\n",
    "    plt.xlabel('Number of generations')\n",
    "    plt.ylabel('Best R^2 score')\n",
    "    plt.title(f'Genetic Algorithm for Feature Selection - {model_type}')\n",
    "    plt.savefig(f'genetic_algorithm_plot_{model_type}.png', dpi=150)\n",
    "    plt.show()\n",
    "\n",
    "    print(f\"Best features selected for {model_type}: {best_features_names}\")\n",
    "    "
   ]
  },
  {
   "cell_type": "code",
   "execution_count": null,
   "id": "22304e1b-9348-4127-a863-f963f77f4591",
   "metadata": {},
   "outputs": [],
   "source": []
  }
 ],
 "metadata": {
  "kernelspec": {
   "display_name": "Python 3 (ipykernel)",
   "language": "python",
   "name": "python3"
  },
  "language_info": {
   "codemirror_mode": {
    "name": "ipython",
    "version": 3
   },
   "file_extension": ".py",
   "mimetype": "text/x-python",
   "name": "python",
   "nbconvert_exporter": "python",
   "pygments_lexer": "ipython3",
   "version": "3.10.8"
  }
 },
 "nbformat": 4,
 "nbformat_minor": 5
}
