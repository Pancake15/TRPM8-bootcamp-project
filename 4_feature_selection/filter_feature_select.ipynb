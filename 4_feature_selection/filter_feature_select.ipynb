{
 "cells": [
  {
   "cell_type": "code",
   "execution_count": 7,
   "id": "c6918277-381b-4fdf-9717-da25d9f4e231",
   "metadata": {},
   "outputs": [
    {
     "name": "stdout",
     "output_type": "stream",
     "text": [
      "The original data size is  (555, 1009)\n",
      "after filtering with variance > 0.2, the data size is (555, 1007)\n",
      "The number of features to drop with correlation greater than 0.95 is  440\n"
     ]
    }
   ],
   "source": [
    "from sklearn.feature_selection import VarianceThreshold\n",
    "import pandas as pd\n",
    "\n",
    "dataset = pd.read_csv('C:/Erdos_2024_DS/train_classification.csv')\n",
    "#datasets = pd.read_csv('../3_train_test_split/train_classification.csv')\n",
    "dataset =dataset.set_index('Molecule ChEMBL ID')\n",
    "\n",
    "#x=dataset.drop(columns=['-logIC50'])\n",
    "#y=dataset['-logIC50\n",
    "\n",
    "print(\"The original data size is \", dataset.shape)\n",
    "\n",
    "# To remove descriptors/features with variance of <0.2\n",
    "\n",
    "#sel = VarianceThreshold(threshold=(.8 * (1 - .8)))\n",
    "sel = VarianceThreshold(threshold=0.2)\n",
    "seldataset=sel.fit_transform(dataset)\n",
    "seldataset=dataset[dataset.columns[sel.get_support(indices=True)]]\n",
    "\n",
    "\n",
    "dropped_feature = [column for column in dataset.columns\n",
    "                      if column not in dataset.columns[sel.get_support()]]\n",
    "\n",
    "# Display dropped features\n",
    "#display(dropped_feature)\n",
    "\n",
    "print(\"after filtering with variance > 0.2, the data size is\", seldataset.shape)\n",
    "#print(seldataset)\n",
    "\n",
    "\n",
    "# To drop highly correlated features in Python\n",
    "def drop_highcorr(seldataset):\n",
    "     # loading libraries\n",
    "#    import pandas as pd\n",
    "    import numpy as np\n",
    "    from sklearn import datasets\n",
    "\n",
    "    iris = datasets.load_iris()\n",
    "\n",
    "    # Creating features and target\n",
    "    X = iris.data\n",
    "    y = iris.target\n",
    "    \n",
    "    # Converting feature matrix into DataFrame\n",
    "    df = pd.DataFrame(seldataset)\n",
    "\n",
    "    # Viewing the data frame\n",
    "#    print(df.head())\n",
    "\n",
    "    # Creating correlation matrix\n",
    "    cor_matrix = df.corr().abs()\n",
    "#    print(); print(cor_matrix)\n",
    "\n",
    "    # Selecting upper triangle of correlation matrix\n",
    "    upper_tri = cor_matrix.where(np.triu(np.ones(cor_matrix.shape),\n",
    "                                      k=1).astype(bool))\n",
    "#    print(); print(upper_tri)\n",
    "\n",
    "    # Finding index of feature columns with correlation greater than 0.95\n",
    "    to_drop = [column for column in upper_tri.columns if any(upper_tri[column] > 0.95)]\n",
    "#    print(); print(to_drop)\n",
    "    print(\"The number of features to drop with correlation greater than 0.95 is \", len(to_drop))\n",
    "\n",
    "    # Droping Marked Features\n",
    "    df1 = df.drop(columns=to_drop, axis=1)\n",
    "\n",
    "#    print(); print(df1.head())\n",
    "\n",
    "    return df1\n",
    "\n",
    "\n",
    "\n",
    "# Apply filtration to each molecule\n",
    "filtered_dataset = drop_highcorr(seldataset)\n",
    "#print(filtered_dataset)\n",
    "dataset =dataset.reset_index()\n",
    "# Save the results to a new CSV\n",
    "output_file = 'filtered_dataset_classification.csv'\n",
    "filtered_dataset.to_csv(output_file, index=False)\n"
   ]
  },
  {
   "cell_type": "markdown",
   "id": "073ec369-665d-4c11-a6d5-7636b939e0a5",
   "metadata": {},
   "source": [
    "### "
   ]
  }
 ],
 "metadata": {
  "kernelspec": {
   "display_name": "Python 3 (ipykernel)",
   "language": "python",
   "name": "python3"
  },
  "language_info": {
   "codemirror_mode": {
    "name": "ipython",
    "version": 3
   },
   "file_extension": ".py",
   "mimetype": "text/x-python",
   "name": "python",
   "nbconvert_exporter": "python",
   "pygments_lexer": "ipython3",
   "version": "3.12.4"
  }
 },
 "nbformat": 4,
 "nbformat_minor": 5
}
